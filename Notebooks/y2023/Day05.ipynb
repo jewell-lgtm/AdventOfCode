{
 "cells": [
  {
   "cell_type": "code",
   "execution_count": 19,
   "metadata": {
    "collapsed": true,
    "ExecuteTime": {
     "end_time": "2023-12-05T20:28:02.833652Z",
     "start_time": "2023-12-05T20:28:02.796011Z"
    }
   },
   "outputs": [],
   "source": [
    "import java.io.File\n",
    "import util.InputReader\n",
    "\n",
    "\n",
    "typealias PuzzleInput = String\n",
    "\n",
    "val exampleInput: PuzzleInput = InputReader.getExample(2023, 5)\n",
    "val puzzleInput: PuzzleInput = InputReader.getPuzzleInput(2023, 5)"
   ]
  },
  {
   "cell_type": "code",
   "execution_count": 20,
   "outputs": [
    {
     "data": {
      "text/plain": "seeds: 79 14 55 13\n\nseed-to-soil map:\n50 98 2\n52 50 48\n\nsoil-to-fertilizer map:\n0 15 37\n37 52 2\n39 0 15\n\nfertilizer-to-water map:\n49 53 8\n0 11 42\n42 0 7\n57 7 4\n\nwater-to-light map:\n88 18 7\n18 25 70\n\nlight-to-temperature map:\n45 77 23\n81 45 19\n68 64 13\n\ntemperature-to-humidity map:\n0 69 1\n1 0 69\n\nhumidity-to-location map:\n60 56 37\n56 93 4"
     },
     "execution_count": 20,
     "metadata": {},
     "output_type": "execute_result"
    }
   ],
   "source": [
    "exampleInput"
   ],
   "metadata": {
    "collapsed": false,
    "ExecuteTime": {
     "end_time": "2023-12-05T20:28:02.846532Z",
     "start_time": "2023-12-05T20:28:02.826859Z"
    }
   }
  },
  {
   "cell_type": "code",
   "execution_count": 21,
   "outputs": [
    {
     "data": {
      "text/plain": "[79, 14, 55, 13]"
     },
     "execution_count": 21,
     "metadata": {},
     "output_type": "execute_result"
    }
   ],
   "source": [
    "fun PuzzleInput.seeds(): List<Long> = lines().first().split(\"seeds: \")[1].split(\" \").map { it.toLong() }\n",
    "\n",
    "exampleInput.seeds()"
   ],
   "metadata": {
    "collapsed": false,
    "ExecuteTime": {
     "end_time": "2023-12-05T20:28:02.901624Z",
     "start_time": "2023-12-05T20:28:02.844807Z"
    }
   }
  },
  {
   "cell_type": "code",
   "execution_count": 22,
   "outputs": [
    {
     "data": {
      "text/plain": "{seed=[SeedMapping(from=seed, to=soil, sourceRange=98..100, offset=-48), SeedMapping(from=seed, to=soil, sourceRange=50..98, offset=2)], soil=[SeedMapping(from=soil, to=fertilizer, sourceRange=15..52, offset=-15), SeedMapping(from=soil, to=fertilizer, sourceRange=52..54, offset=-15), SeedMapping(from=soil, to=fertilizer, sourceRange=0..15, offset=39)], fertilizer=[SeedMapping(from=fertilizer, to=water, sourceRange=53..61, offset=-4), SeedMapping(from=fertilizer, to=water, sourceRange=11..53, offset=-11), SeedMapping(from=fertilizer, to=water, sourceRange=0..7, offset=42), SeedMapping(from=fertilizer, to=water, sourceRange=7..11, offset=50)], water=[SeedMapping(from=water, to=light, sourceRange=18..25, offset=70), SeedMapping(from=water, to=light, sourceRange=25..95, offset=-7)], light=[SeedMapping(from=light, to=temperature, sourceRange=77..100, offset=-32), SeedMapping(from=light, to=temperature, sourceRange=45..64, offset=36), SeedMapping(from=light, to=temperature, sourceRange=64..77, offset=4)], temperature=[SeedMapping(from=temperature, to=humidity, sourceRange=69..70, offset=-69), SeedMapping(from=temperature, to=humidity, sourceRange=0..69, offset=1)], humidity=[SeedMapping(from=humidity, to=location, sourceRange=56..93, offset=4), SeedMapping(from=humidity, to=location, sourceRange=93..97, offset=-37)]}"
     },
     "execution_count": 22,
     "metadata": {},
     "output_type": "execute_result"
    }
   ],
   "source": [
    "data class SeedMapping(val from: String, val to: String, val sourceRange: LongRange, val offset: Long) {\n",
    "    val destinationStart = sourceRange.first + offset\n",
    "}\n",
    "\n",
    "fun SeedMapping(line: String): SeedMapping {\n",
    "    val (from, to, sourceBegin, sourceEnd, offset) = line.split(\" \")\n",
    "    return SeedMapping(from, to, sourceBegin.toLong()..sourceEnd.toLong(), offset.toLong())\n",
    "} \n",
    "\n",
    "fun SeedMapping(from: String, to: String, string: String): SeedMapping {\n",
    "    val (destinationBegin, sourceBegin, length) = string.split(\" \").map { it.toLong() }\n",
    "    val offset = destinationBegin - sourceBegin\n",
    "    val sourceRange = sourceBegin..(sourceBegin + length)\n",
    "    return SeedMapping(from, to, sourceRange, offset)\n",
    "}\n",
    "\n",
    "fun PuzzleInput.seedMappers() =\n",
    "    lines().drop(2).joinToString(\"\\n\").split(\"\\n\\n\")\n",
    "        .flatMap { chunk ->\n",
    "            val (header, rest) = chunk.split(\"\\n\", limit = 2)\n",
    "            val (from, _, to) = header.split(\" \")[0].split(\"-\")\n",
    "            rest.lines().map { SeedMapping(from, to, it) }.toSet()\n",
    "        }.groupBy { it.from }\n",
    "\n",
    "\n",
    "exampleInput.seedMappers()"
   ],
   "metadata": {
    "collapsed": false,
    "ExecuteTime": {
     "end_time": "2023-12-05T20:28:03.039969Z",
     "start_time": "2023-12-05T20:28:02.892815Z"
    }
   }
  },
  {
   "cell_type": "code",
   "execution_count": 23,
   "outputs": [
    {
     "data": {
      "text/plain": "[(seed, soil), (soil, fertilizer), (fertilizer, water), (water, light), (light, temperature), (temperature, humidity), (humidity, location)]"
     },
     "execution_count": 23,
     "metadata": {},
     "output_type": "execute_result"
    }
   ],
   "source": [
    "// make a chain of seed mappers, starting at seed, and then returning the next layer on every iteration\n",
    "fun PuzzleInput.seedChain(seed: String = \"seed\"): Sequence<List<SeedMapping>> = sequence {\n",
    "    var current = seed\n",
    "    while (true) {\n",
    "        val next = seedMappers()[current] ?: break\n",
    "        yield(next)\n",
    "        current = next.first().to\n",
    "    }\n",
    "}\n",
    "\n",
    "exampleInput.seedChain().toList().map{ it.first().from to it.first().to }"
   ],
   "metadata": {
    "collapsed": false,
    "ExecuteTime": {
     "end_time": "2023-12-05T20:28:03.110134Z",
     "start_time": "2023-12-05T20:28:03.039425Z"
    }
   }
  },
  {
   "cell_type": "code",
   "execution_count": 24,
   "outputs": [
    {
     "data": {
      "text/plain": "[50, 51, 52]"
     },
     "execution_count": 24,
     "metadata": {},
     "output_type": "execute_result"
    }
   ],
   "source": [
    "fun SeedMapping.mapSeed(seed: Long): Long {\n",
    "    if (!sourceRange.contains(seed)) throw IllegalArgumentException(\"Seed $seed is not in range $sourceRange\")\n",
    "    return seed + offset\n",
    "}\n",
    "\n",
    "listOf( 98L, 99L, 100L).map { SeedMapping(\"a\", \"b\", \"50 98 2\").mapSeed(it) }"
   ],
   "metadata": {
    "collapsed": false,
    "ExecuteTime": {
     "end_time": "2023-12-05T20:28:03.172082Z",
     "start_time": "2023-12-05T20:28:03.104032Z"
    }
   }
  },
  {
   "cell_type": "code",
   "execution_count": 25,
   "outputs": [
    {
     "data": {
      "text/plain": "35"
     },
     "execution_count": 25,
     "metadata": {},
     "output_type": "execute_result"
    }
   ],
   "source": [
    "fun PuzzleInput.partOne() = seeds().minOf { seed ->\n",
    "    var seedValue = seed\n",
    "    for (mappers in seedChain()) {\n",
    "        val mapper = mappers.firstOrNull { it.sourceRange.contains(seedValue) }\n",
    "        \n",
    "        seedValue = if (mapper == null) seedValue else mapper.mapSeed(seedValue)\n",
    "    }\n",
    "    seedValue\n",
    "}\n",
    "exampleInput.partOne()"
   ],
   "metadata": {
    "collapsed": false,
    "ExecuteTime": {
     "end_time": "2023-12-05T20:28:03.268196Z",
     "start_time": "2023-12-05T20:28:03.171257Z"
    }
   }
  },
  {
   "cell_type": "code",
   "execution_count": 26,
   "outputs": [
    {
     "data": {
      "text/plain": "88151870"
     },
     "execution_count": 26,
     "metadata": {},
     "output_type": "execute_result"
    }
   ],
   "source": [
    "puzzleInput.partOne()"
   ],
   "metadata": {
    "collapsed": false,
    "ExecuteTime": {
     "end_time": "2023-12-05T20:28:03.308135Z",
     "start_time": "2023-12-05T20:28:03.241441Z"
    }
   }
  },
  {
   "cell_type": "code",
   "execution_count": 27,
   "outputs": [
    {
     "data": {
      "text/plain": "[79..92, 55..67]"
     },
     "execution_count": 27,
     "metadata": {},
     "output_type": "execute_result"
    }
   ],
   "source": [
    "fun PuzzleInput.seedRanges(): List<LongRange> = trim().lines().first().split(\"seeds: \")[1]\n",
    "    .run { split(\" \").map { it.toLong() } }\n",
    "    .chunked(2)\n",
    "    .map { (start, length) -> start until start + length }\n",
    "\n",
    "exampleInput.seedRanges()"
   ],
   "metadata": {
    "collapsed": false,
    "ExecuteTime": {
     "end_time": "2023-12-05T20:28:03.372828Z",
     "start_time": "2023-12-05T20:28:03.306048Z"
    }
   }
  },
  {
   "cell_type": "code",
   "execution_count": 28,
   "outputs": [
    {
     "data": {
      "text/plain": "true"
     },
     "execution_count": 28,
     "metadata": {},
     "output_type": "execute_result"
    }
   ],
   "source": [
    "fun LongRange.intersects(other: LongRange): Boolean = this.contains(other.first) || this.contains(other.last)\n",
    "fun LongRange.contains(other: LongRange): Boolean = this.contains(other.first) && this.contains(other.last)\n",
    "\n",
    "(1L..10L).intersects(5L..15L)"
   ],
   "metadata": {
    "collapsed": false,
    "ExecuteTime": {
     "end_time": "2023-12-05T20:28:03.412287Z",
     "start_time": "2023-12-05T20:28:03.364172Z"
    }
   }
  },
  {
   "cell_type": "code",
   "execution_count": 29,
   "outputs": [
    {
     "data": {
      "text/plain": "[10..11, 11..13, 13..15, 15..19, 19..20]"
     },
     "execution_count": 29,
     "metadata": {},
     "output_type": "execute_result"
    }
   ],
   "source": [
    "fun Set<LongRange>.removeEmpty() = filter { it.first != it.last }.toSet()\n",
    "fun Set<LongRange>.splitBy(other: LongRange): Set<LongRange> = flatMap { inputRange ->\n",
    "    when {\n",
    "        inputRange == other -> setOf(inputRange)\n",
    "        inputRange.intersects(other) -> {\n",
    "            val  otherFirst = other.first.coerceAtLeast(inputRange.first)\n",
    "            val otherLast = other.last.coerceAtMost(inputRange.last)\n",
    "            setOf(inputRange.first .. otherFirst, otherFirst..otherLast, otherLast..inputRange.last).removeEmpty()\n",
    "        }\n",
    "        else -> setOf(inputRange)\n",
    "    }\n",
    "}.toSet()\n",
    "\n",
    "setOf(10L..20L).splitBy(1L..2L).splitBy(99L..100L).splitBy(8L..10L).splitBy(8L..11L).splitBy(13L..15L).splitBy(19L..21L)"
   ],
   "metadata": {
    "collapsed": false,
    "ExecuteTime": {
     "end_time": "2023-12-05T20:28:03.473048Z",
     "start_time": "2023-12-05T20:28:03.395332Z"
    }
   }
  },
  {
   "cell_type": "code",
   "execution_count": 47,
   "outputs": [
    {
     "name": "stdout",
     "output_type": "stream",
     "text": [
      "[104847962..108431793, 1212568077..1327462357, 3890048781..4223500385, 1520059863..1737421852, 310308287..323093896, 3492562455..3785530503, 1901414562..2417565422, 2474299950..2627167097, 3394639029..3454329438, 862612782..1038740978]\n",
      "Mapping SeedMapping(from=seed, to=soil, sourceRange=2044296880..2440371243, offset=-20855844): 1901414562..2417565422 split by 2044296880..2440371243 into [1901414562..2044296880, 2044296880..2417565422]\n",
      "Mapping SeedMapping(from=seed, to=soil, sourceRange=3839972576..4294967296, offset=-1420457177): Mapping SeedMapping(from=seed, to=soil, sourceRange=699823315..958743033, offset=-425134898): 862612782..1038740978 split by 699823315..958743033 into [862612782..958743033, 958743033..1038740978]\n",
      "Mapping SeedMapping(from=seed, to=soil, sourceRange=0..431744151, offset=533608135): Mapping SeedMapping(from=seed, to=soil, sourceRange=431744151..592869475, offset=533608135): Mapping SeedMapping(from=seed, to=soil, sourceRange=2936663910..3839972576, offset=454994720): Mapping SeedMapping(from=seed, to=soil, sourceRange=1177785526..1251723993, offset=-977035576): 1212568077..1327462357 split by 1177785526..1251723993 into [1212568077..1251723993, 1251723993..1327462357]\n",
      "Mapping SeedMapping(from=seed, to=soil, sourceRange=1440389999..1756282136, offset=1434120120): Mapping SeedMapping(from=seed, to=soil, sourceRange=2440371243..2460964438, offset=-524281772): Mapping SeedMapping(from=seed, to=soil, sourceRange=977035576..1177785526, offset=-977035576): Mapping SeedMapping(from=seed, to=soil, sourceRange=1957538510..2044296880, offset=-20855844): Mapping SeedMapping(from=seed, to=soil, sourceRange=2902130623..2936663910, offset=-1461740624): Mapping SeedMapping(from=seed, to=soil, sourceRange=592869475..699823315, offset=533608135): Mapping SeedMapping(from=seed, to=soil, sourceRange=1756282136..1957538510, offset=1434120120): Mapping SeedMapping(from=seed, to=soil, sourceRange=2460964438..2902130623, offset=-986041152): Mapping SeedMapping(from=seed, to=soil, sourceRange=958743033..977035576, offset=274688417): {104847962..108431793=104847962..108431793, 3890048781..4223500385=3890048781..4223500385, 1520059863..1737421852=1520059863..1737421852, 310308287..323093896=310308287..323093896, 3492562455..3785530503=3492562455..3785530503, 2474299950..2627167097=2474299950..2627167097, 3394639029..3454329438=3394639029..3454329438}\n"
     ]
    },
    {
     "data": {
      "text/plain": "-1"
     },
     "execution_count": 47,
     "metadata": {},
     "output_type": "execute_result"
    }
   ],
   "source": [
    "fun PuzzleInput.partTwo(): Long {\n",
    "    // start off with each seed range mapping to itself\n",
    "    val mappings = seedRanges().map { it to it }.toMap().toMutableMap()\n",
    "    // map each range of the \"seed\" mappers to the new range\n",
    "    val seedMappers = seedMappers()[\"seed\"]!!\n",
    "    println(mappings.values)\n",
    "    for (mapper in seedMappers) {\n",
    "        print(\"Mapping $mapper: \")\n",
    "        for ((sourceRange, destinationRange) in mappings.toList()) {\n",
    "            if (destinationRange.intersects(mapper.sourceRange)) {\n",
    "                // remove the old range\n",
    "                mappings.remove(sourceRange)\n",
    "                val newRanges = setOf(de).splitBy(mapper.)\n",
    "                \n",
    "            }\n",
    "        }\n",
    "    }\n",
    "    println(mappings)\n",
    "    \n",
    "    return -1L\n",
    "}\n",
    "\n",
    "puzzleInput.partTwo()"
   ],
   "metadata": {
    "collapsed": false,
    "ExecuteTime": {
     "end_time": "2023-12-05T20:38:12.359988Z",
     "start_time": "2023-12-05T20:38:12.212079Z"
    }
   }
  },
  {
   "cell_type": "code",
   "execution_count": 33,
   "outputs": [],
   "source": [],
   "metadata": {
    "collapsed": false,
    "ExecuteTime": {
     "end_time": "2023-12-05T20:28:03.563985Z",
     "start_time": "2023-12-05T20:28:03.547240Z"
    }
   }
  }
 ],
 "metadata": {
  "kernelspec": {
   "display_name": "Kotlin",
   "language": "kotlin",
   "name": "kotlin"
  },
  "language_info": {
   "name": "kotlin",
   "version": "1.9.0",
   "mimetype": "text/x-kotlin",
   "file_extension": ".kt",
   "pygments_lexer": "kotlin",
   "codemirror_mode": "text/x-kotlin",
   "nbconvert_exporter": ""
  },
  "ktnbPluginMetadata": {
   "projectDependencies": true
  }
 },
 "nbformat": 4,
 "nbformat_minor": 0
}
