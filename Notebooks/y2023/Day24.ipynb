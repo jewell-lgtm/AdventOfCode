{
 "cells": [
  {
   "cell_type": "code",
   "execution_count": 19,
   "metadata": {
    "collapsed": true,
    "ExecuteTime": {
     "end_time": "2023-12-24T12:48:23.331459Z",
     "start_time": "2023-12-24T12:48:23.253518Z"
    }
   },
   "outputs": [],
   "source": [
    "import java.io.File\n",
    "import util.InputReader\n",
    "\n",
    "typealias PuzzleLine = String\n",
    "typealias PuzzleInput = List<PuzzleLine>\n",
    "\n",
    "val exampleInput: PuzzleInput = InputReader.getExampleLines(2023, 24)\n",
    "val puzzleInput: PuzzleInput = InputReader.getPuzzleLines(2023, 24)"
   ]
  },
  {
   "cell_type": "code",
   "execution_count": 20,
   "outputs": [
    {
     "data": {
      "text/plain": "[19, 13, 30 @ -2,  1, -2, 18, 19, 22 @ -1, -1, -2, 20, 25, 34 @ -2, -2, -4, 12, 31, 28 @ -1, -2, -1, 20, 19, 15 @  1, -5, -3]"
     },
     "execution_count": 20,
     "metadata": {},
     "output_type": "execute_result"
    }
   ],
   "source": [
    "exampleInput"
   ],
   "metadata": {
    "collapsed": false,
    "ExecuteTime": {
     "end_time": "2023-12-24T12:48:24.291040Z",
     "start_time": "2023-12-24T12:48:24.221802Z"
    }
   }
  },
  {
   "cell_type": "code",
   "execution_count": 21,
   "outputs": [],
   "source": [
    "data class Hailstone2d(val px: Long, val py: Long, val vx: Long, val vy: Long)\n",
    "\n",
    "fun from(string: String): Hailstone2d {\n",
    "    val positions = string.split(\" @ \").flatMap { it.split(\", \") }.map { it.trim().toLong() }\n",
    "    return Hailstone2d(positions[0], positions[1], positions[3], positions[4])\n",
    "}"
   ],
   "metadata": {
    "collapsed": false,
    "ExecuteTime": {
     "end_time": "2023-12-24T12:48:25.317237Z",
     "start_time": "2023-12-24T12:48:25.120327Z"
    }
   }
  },
  {
   "cell_type": "code",
   "outputs": [
    {
     "data": {
      "text/plain": "Hailstone2d(px=19, py=13, vx=-2, vy=1)"
     },
     "execution_count": 22,
     "metadata": {},
     "output_type": "execute_result"
    }
   ],
   "source": [
    "from(exampleInput[0])"
   ],
   "metadata": {
    "collapsed": false,
    "ExecuteTime": {
     "end_time": "2023-12-24T12:48:26.057041Z",
     "start_time": "2023-12-24T12:48:25.990203Z"
    }
   },
   "execution_count": 22
  },
  {
   "cell_type": "code",
   "outputs": [],
   "source": [
    "fun List<String>.toHailstones(): List<Hailstone2d> = this.map { from(it) }"
   ],
   "metadata": {
    "collapsed": false,
    "ExecuteTime": {
     "end_time": "2023-12-24T12:48:26.771496Z",
     "start_time": "2023-12-24T12:48:26.706111Z"
    }
   },
   "execution_count": 23
  },
  {
   "cell_type": "code",
   "outputs": [
    {
     "data": {
      "text/plain": "[Hailstone2d(px=19, py=13, vx=-2, vy=1), Hailstone2d(px=18, py=19, vx=-1, vy=-1), Hailstone2d(px=20, py=25, vx=-2, vy=-2), Hailstone2d(px=12, py=31, vx=-1, vy=-2), Hailstone2d(px=20, py=19, vx=1, vy=-5)]"
     },
     "execution_count": 24,
     "metadata": {},
     "output_type": "execute_result"
    }
   ],
   "source": [
    "exampleInput.toHailstones()"
   ],
   "metadata": {
    "collapsed": false,
    "ExecuteTime": {
     "end_time": "2023-12-24T12:48:27.552691Z",
     "start_time": "2023-12-24T12:48:27.439861Z"
    }
   },
   "execution_count": 24
  },
  {
   "cell_type": "code",
   "outputs": [
    {
     "data": {
      "text/plain": "[Hailstone2d(px=19, py=13, vx=-2, vy=1), Hailstone2d(px=18, py=19, vx=-1, vy=-1)]"
     },
     "execution_count": 25,
     "metadata": {},
     "output_type": "execute_result"
    }
   ],
   "source": [
    "val a = exampleInput.toHailstones()[0]\n",
    "val b = exampleInput.toHailstones()[1]\n",
    "listOf(a,b)"
   ],
   "metadata": {
    "collapsed": false,
    "ExecuteTime": {
     "end_time": "2023-12-24T12:48:28.400065Z",
     "start_time": "2023-12-24T12:48:28.217119Z"
    }
   },
   "execution_count": 25
  },
  {
   "cell_type": "code",
   "outputs": [
    {
     "data": {
      "text/plain": "Hailstone2d(px=-1, py=6, vx=1, vy=-2)"
     },
     "execution_count": 26,
     "metadata": {},
     "output_type": "execute_result"
    }
   ],
   "source": [
    "inline operator fun Hailstone2d.plus(other: Hailstone2d): Hailstone2d {\n",
    "    return Hailstone2d(px + other.px, py + other.py, vx + other.vx, vy + other.vy)\n",
    "}\n",
    "\n",
    "inline operator fun Hailstone2d.minus(other: Hailstone2d): Hailstone2d {\n",
    "    return Hailstone2d(px - other.px, py - other.py, vx - other.vx, vy - other.vy)\n",
    "}\n",
    "\n",
    "\n",
    "b - a"
   ],
   "metadata": {
    "collapsed": false,
    "ExecuteTime": {
     "end_time": "2023-12-24T12:48:29.848934Z",
     "start_time": "2023-12-24T12:48:29.677327Z"
    }
   },
   "execution_count": 26
  },
  {
   "cell_type": "code",
   "outputs": [],
   "source": [
    "// y = mx + c\n",
    "val Hailstone2d.m: Double\n",
    "    get() = vy.toDouble() / vx.toDouble()\n",
    "\n",
    "val Hailstone2d.c: Double\n",
    "    get() = py.toDouble() - m * px.toDouble()\n",
    "\n",
    "fun intersectX(a: Hailstone2d, b: Hailstone2d): Double {\n",
    "    return (b.c - a.c) / (a.m - b.m)\n",
    "}\n"
   ],
   "metadata": {
    "collapsed": false,
    "ExecuteTime": {
     "end_time": "2023-12-24T12:48:31.276320Z",
     "start_time": "2023-12-24T12:48:31.195187Z"
    }
   },
   "execution_count": 27
  },
  {
   "cell_type": "code",
   "outputs": [
    {
     "data": {
      "text/plain": "14.333333333333334"
     },
     "execution_count": 28,
     "metadata": {},
     "output_type": "execute_result"
    }
   ],
   "source": [
    "intersectX(a, b)"
   ],
   "metadata": {
    "collapsed": false,
    "ExecuteTime": {
     "end_time": "2023-12-24T12:48:32.293625Z",
     "start_time": "2023-12-24T12:48:32.239122Z"
    }
   },
   "execution_count": 28
  },
  {
   "cell_type": "code",
   "outputs": [],
   "source": [
    "fun intersectY(a: Hailstone2d, b: Hailstone2d): Double {\n",
    "    return a.m * intersectX(a, b) + a.c\n",
    "}"
   ],
   "metadata": {
    "collapsed": false,
    "ExecuteTime": {
     "end_time": "2023-12-24T12:48:33.808668Z",
     "start_time": "2023-12-24T12:48:33.739148Z"
    }
   },
   "execution_count": 29
  },
  {
   "cell_type": "code",
   "outputs": [
    {
     "data": {
      "text/plain": "15.333333333333332"
     },
     "execution_count": 30,
     "metadata": {},
     "output_type": "execute_result"
    }
   ],
   "source": [
    "intersectY(a, b)"
   ],
   "metadata": {
    "collapsed": false,
    "ExecuteTime": {
     "end_time": "2023-12-24T12:48:35.060548Z",
     "start_time": "2023-12-24T12:48:35.005691Z"
    }
   },
   "execution_count": 30
  },
  {
   "cell_type": "code",
   "outputs": [],
   "source": [
    "data class Box(val x: LongRange, val y: LongRange) {\n",
    "    constructor(x: IntRange, y: IntRange) : this(x.toLongRange(), y.toLongRange())\n",
    "    constructor(xy: IntRange) : this(xy, xy)\n",
    "    constructor(start: String, end: String) : this(start.toLong(), end.toLong())\n",
    "    constructor(start: Long, end: Long) : this(start..end, start..end)\n",
    "}\n",
    "\n",
    "fun IntRange.toLongRange(): LongRange = this.first.toLong()..this.last.toLong()\n",
    "\n",
    "fun Box.xInside(x: Double): Boolean = x >= this.x.first.toDouble() && x <= this.x.last.toDouble()\n",
    "fun Box.yInside(y: Double): Boolean = y >= this.y.first.toDouble() && y <= this.y.last.toDouble()\n",
    "fun Box.inside(x: Double, y: Double): Boolean = xInside(x) && yInside(y)\n",
    "\n",
    "fun Box.intersectionInside(a: Hailstone2d, b: Hailstone2d): Boolean {\n",
    "    val x = intersectX(a, b)\n",
    "    val y = intersectY(a, b)\n",
    "    return inside(x, y)\n",
    "}"
   ],
   "metadata": {
    "collapsed": false,
    "ExecuteTime": {
     "end_time": "2023-12-24T16:49:24.753416Z",
     "start_time": "2023-12-24T16:49:24.626181Z"
    }
   },
   "execution_count": 40
  },
  {
   "cell_type": "code",
   "outputs": [],
   "source": [
    "fun <E>Collection<E>.combinations(): List<Pair<E, E>> {\n",
    "    val result = mutableListOf<Pair<E, E>>()\n",
    "    for (i in this.indices) {\n",
    "        for (j in i + 1 until this.size) {\n",
    "            val pair = this.elementAt(i) to this.elementAt(j)\n",
    "            result.add(pair)\n",
    "        }\n",
    "    }\n",
    "    return result\n",
    "}"
   ],
   "metadata": {
    "collapsed": false,
    "ExecuteTime": {
     "end_time": "2023-12-24T16:49:25.786813Z",
     "start_time": "2023-12-24T16:49:25.667052Z"
    }
   },
   "execution_count": 41
  },
  {
   "cell_type": "code",
   "outputs": [],
   "source": [
    "data class Vector2d(val x: Double, val y: Double) {\n",
    "    fun lengthSquared(): Double = x * x + y * y\n",
    "\n",
    "    operator fun plus(other: Vector2d) = Vector2d(x + other.x, y + other.y)\n",
    "    operator fun minus(other: Vector2d) = Vector2d(x - other.x, y - other.y)\n",
    "}\n",
    "\n",
    "\n",
    "val Hailstone2d.position: Vector2d\n",
    "    get() = Vector2d(px.toDouble(), py.toDouble())\n",
    "\n",
    "val Hailstone2d.velocity: Vector2d\n",
    "    get() = Vector2d(vx.toDouble(), vy.toDouble())\n",
    "\n",
    "\n",
    "fun Hailstone2d.distance(other: Hailstone2d): Double {\n",
    "    return (this.position - other.position).lengthSquared()\n",
    "}\n",
    "\n",
    "fun Hailstone2d.tick() = copy(px = px + vx, py = py + vy)\n",
    "\n",
    "val Double.unit: Double get() = if (this > 0) 1.0 else if (this < 0) -1.0 else 0.0\n",
    "val Vector2d.unit: Vector2d get() = Vector2d(x = x.unit, y = y.unit)\n",
    "\n",
    "fun Hailstone2d.travellingTowards(other: Vector2d): Boolean {\n",
    "    return (this.velocity.unit == (other - this.position).unit)\n",
    "}\n",
    "\n",
    "\n",
    "fun converging(a: Hailstone2d, b: Hailstone2d): Boolean {\n",
    "    if (a.m == b.m) return false\n",
    "    \n",
    "    val intersection = Vector2d(intersectX(a, b), intersectY(a, b))\n",
    "    val aCorrect = a.travellingTowards(intersection)\n",
    "    val bCorrect = b.travellingTowards(intersection)\n",
    "    return aCorrect && bCorrect\n",
    "}"
   ],
   "metadata": {
    "collapsed": false,
    "ExecuteTime": {
     "end_time": "2023-12-24T16:49:26.462597Z",
     "start_time": "2023-12-24T16:49:26.245950Z"
    }
   },
   "execution_count": 42
  },
  {
   "cell_type": "markdown",
   "source": [
    "Hailstone A: 19, 13, 30 @ -2, 1, -2\n",
    "Hailstone B: 20, 19, 15 @ 1, -5, -3\n",
    "Hailstones' paths crossed in the past for hailstone A."
   ],
   "metadata": {
    "collapsed": false
   }
  },
  {
   "cell_type": "code",
   "outputs": [
    {
     "data": {
      "text/plain": "false"
     },
     "execution_count": 43,
     "metadata": {},
     "output_type": "execute_result"
    }
   ],
   "source": [
    "val a = Hailstone2d(19, 13, -2, 1)\n",
    "val b = Hailstone2d(20, 19, 1, -5)\n",
    "converging(a, b)"
   ],
   "metadata": {
    "collapsed": false,
    "ExecuteTime": {
     "end_time": "2023-12-24T16:49:29.111889Z",
     "start_time": "2023-12-24T16:49:29.055931Z"
    }
   },
   "execution_count": 43
  },
  {
   "cell_type": "code",
   "outputs": [
    {
     "data": {
      "text/plain": "2"
     },
     "execution_count": 44,
     "metadata": {},
     "output_type": "execute_result"
    }
   ],
   "source": [
    "fun partOne(input: List<String>, box: Box): Int {\n",
    "    val hailstones = input.toHailstones()\n",
    "    val combinations = hailstones.combinations()\n",
    "    val intersectsInside = combinations.filter { (a, b) -> converging(a, b) && box.intersectionInside(a, b) }\n",
    "    return intersectsInside.size\n",
    "}\n",
    "\n",
    "partOne(exampleInput, Box(7..27))"
   ],
   "metadata": {
    "collapsed": false,
    "ExecuteTime": {
     "end_time": "2023-12-24T16:49:29.976605Z",
     "start_time": "2023-12-24T16:49:29.858799Z"
    }
   },
   "execution_count": 44
  },
  {
   "cell_type": "code",
   "outputs": [
    {
     "data": {
      "text/plain": "18651"
     },
     "execution_count": 45,
     "metadata": {},
     "output_type": "execute_result"
    }
   ],
   "source": [
    "partOne(puzzleInput, Box(\"200000000000000\", \"400000000000000\"))"
   ],
   "metadata": {
    "collapsed": false,
    "ExecuteTime": {
     "end_time": "2023-12-24T16:49:30.767282Z",
     "start_time": "2023-12-24T16:49:30.649468Z"
    }
   },
   "execution_count": 45
  },
  {
   "cell_type": "code",
   "outputs": [],
   "source": [],
   "metadata": {
    "collapsed": false
   }
  }
 ],
 "metadata": {
  "kernelspec": {
   "display_name": "Kotlin",
   "language": "kotlin",
   "name": "kotlin"
  },
  "language_info": {
   "name": "kotlin",
   "version": "1.9.0",
   "mimetype": "text/x-kotlin",
   "file_extension": ".kt",
   "pygments_lexer": "kotlin",
   "codemirror_mode": "text/x-kotlin",
   "nbconvert_exporter": ""
  },
  "ktnbPluginMetadata": {
   "projectDependencies": true
  }
 },
 "nbformat": 4,
 "nbformat_minor": 0
}
