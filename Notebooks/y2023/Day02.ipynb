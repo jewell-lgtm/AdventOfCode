{
 "cells": [
  {
   "cell_type": "code",
   "execution_count": 49,
   "metadata": {
    "collapsed": true,
    "ExecuteTime": {
     "end_time": "2023-12-04T09:41:18.536536Z",
     "start_time": "2023-12-04T09:41:18.462072Z"
    }
   },
   "outputs": [],
   "source": [
    "import java.io.File\n",
    "import util.InputReader\n",
    "\n",
    "typealias PuzzleLine = String\n",
    "typealias PuzzleInput = List<PuzzleLine>\n",
    "\n",
    "val exampleInput: PuzzleInput = InputReader.getExampleLines(2023, 2)\n",
    "val puzzleInput: PuzzleInput = InputReader.getPuzzleLines(2023, 2)"
   ]
  },
  {
   "cell_type": "markdown",
   "source": [
    "--- Day 2: Cube Conundrum ---\n",
    "You're launched high into the atmosphere! The apex of your trajectory just barely reaches the surface of a large island floating in the sky. You gently land in a fluffy pile of leaves. It's quite cold, but you don't see much snow. An Elf runs over to greet you.\n",
    "\n",
    "The Elf explains that you've arrived at Snow Island and apologizes for the lack of snow. He'll be happy to explain the situation, but it's a bit of a walk, so you have some time. They don't get many visitors up here; would you like to play a game in the meantime?\n",
    "\n",
    "As you walk, the Elf shows you a small bag and some cubes which are either red, green, or blue. Each time you play this game, he will hide a secret number of cubes of each color in the bag, and your goal is to figure out information about the number of cubes.\n",
    "\n",
    "To get information, once a bag has been loaded with cubes, the Elf will reach into the bag, grab a handful of random cubes, show them to you, and then put them back in the bag. He'll do this a few times per game.\n",
    "\n",
    "You play several games and record the information from each game (your puzzle input). Each game is listed with its ID number (like the 11 in Game 11: ...) followed by a semicolon-separated list of subsets of cubes that were revealed from the bag (like 3 red, 5 green, 4 blue).\n",
    "\n",
    "For example, the record of a few games might look like this:"
   ],
   "metadata": {
    "collapsed": false
   }
  },
  {
   "cell_type": "code",
   "execution_count": 50,
   "outputs": [
    {
     "data": {
      "text/plain": "[Game 1: 3 blue, 4 red; 1 red, 2 green, 6 blue; 2 green, Game 2: 1 blue, 2 green; 3 green, 4 blue, 1 red; 1 green, 1 blue, Game 3: 8 green, 6 blue, 20 red; 5 blue, 4 red, 13 green; 5 green, 1 red, Game 4: 1 green, 3 red, 6 blue; 3 green, 6 red; 3 green, 15 blue, 14 red, Game 5: 6 red, 1 blue, 3 green; 2 blue, 1 red, 2 green]"
     },
     "execution_count": 50,
     "metadata": {},
     "output_type": "execute_result"
    }
   ],
   "source": [
    "exampleInput"
   ],
   "metadata": {
    "collapsed": false,
    "ExecuteTime": {
     "end_time": "2023-12-04T09:41:18.537907Z",
     "start_time": "2023-12-04T09:41:18.487176Z"
    }
   }
  },
  {
   "cell_type": "code",
   "execution_count": 51,
   "outputs": [],
   "source": [
    "data class GameSet(val blue: Int, val red: Int, val green: Int)\n",
    "data class Game(val id: Int, val sets: List<GameSet>)"
   ],
   "metadata": {
    "collapsed": false,
    "ExecuteTime": {
     "end_time": "2023-12-04T09:41:18.542952Z",
     "start_time": "2023-12-04T09:41:18.504901Z"
    }
   }
  },
  {
   "cell_type": "code",
   "execution_count": 52,
   "outputs": [
    {
     "data": {
      "text/plain": "(1, Game)"
     },
     "execution_count": 52,
     "metadata": {},
     "output_type": "execute_result"
    }
   ],
   "source": [
    "fun String.intPart(): Int = mapNotNull { it.takeIf { it.isDigit() } }.joinToString(\"\").toInt()\n",
    "\n",
    "fun Char.isWordChar(): Boolean = ('a'..'z').contains(this) || ('A'..'Z').contains(this)\n",
    "\n",
    "fun String.charPart(): String = mapNotNull { it.takeIf { it.isWordChar() } }.joinToString(\"\")\n",
    "\n",
    "exampleInput[0].split(\":\")[0].intPart() to exampleInput[0].split(\":\")[0].charPart()"
   ],
   "metadata": {
    "collapsed": false,
    "ExecuteTime": {
     "end_time": "2023-12-04T09:41:18.597234Z",
     "start_time": "2023-12-04T09:41:18.540297Z"
    }
   }
  },
  {
   "cell_type": "code",
   "execution_count": 53,
   "outputs": [
    {
     "data": {
      "text/plain": "[(3, blue), (4, red)]"
     },
     "execution_count": 53,
     "metadata": {},
     "output_type": "execute_result"
    }
   ],
   "source": [
    "exampleInput[0].split(\":\")[1].split(\"; \")[0].split(\", \").map { it.intPart() to it.charPart() }"
   ],
   "metadata": {
    "collapsed": false,
    "ExecuteTime": {
     "end_time": "2023-12-04T09:41:18.652203Z",
     "start_time": "2023-12-04T09:41:18.596674Z"
    }
   }
  },
  {
   "cell_type": "code",
   "execution_count": 54,
   "outputs": [],
   "source": [
    "fun PuzzleLine.toGame():Game {\n",
    "    val id = split(\":\")[0].intPart()\n",
    "    val sets = split(\":\")[1].split(\"; \").map { set ->\n",
    "        val colors = set.split(\", \").map { it.intPart() to it.charPart() }\n",
    "        val blue = colors.find { it.second == \"blue\" }?.first ?: 0\n",
    "        val red = colors.find { it.second == \"red\" }?.first ?: 0\n",
    "        val green = colors.find { it.second == \"green\" }?.first ?: 0\n",
    "        GameSet(blue=blue, red=red, green=green)\n",
    "    }\n",
    "     \n",
    "    return Game(id, sets)\n",
    "}\n",
    "fun PuzzleInput.toGames(): List<Game> = map { it.toGame() }"
   ],
   "metadata": {
    "collapsed": false,
    "ExecuteTime": {
     "end_time": "2023-12-04T09:41:18.714538Z",
     "start_time": "2023-12-04T09:41:18.634175Z"
    }
   }
  },
  {
   "cell_type": "code",
   "execution_count": 55,
   "outputs": [
    {
     "data": {
      "text/plain": "[Game(id=1, sets=[GameSet(blue=3, red=4, green=0), GameSet(blue=6, red=1, green=2), GameSet(blue=0, red=0, green=2)]), Game(id=2, sets=[GameSet(blue=1, red=0, green=2), GameSet(blue=4, red=1, green=3), GameSet(blue=1, red=0, green=1)]), Game(id=3, sets=[GameSet(blue=6, red=20, green=8), GameSet(blue=5, red=4, green=13), GameSet(blue=0, red=1, green=5)]), Game(id=4, sets=[GameSet(blue=6, red=3, green=1), GameSet(blue=0, red=6, green=3), GameSet(blue=15, red=14, green=3)]), Game(id=5, sets=[GameSet(blue=1, red=6, green=3), GameSet(blue=2, red=1, green=2)])]"
     },
     "execution_count": 55,
     "metadata": {},
     "output_type": "execute_result"
    }
   ],
   "source": [
    "exampleInput.toGames()"
   ],
   "metadata": {
    "collapsed": false,
    "ExecuteTime": {
     "end_time": "2023-12-04T09:41:18.738305Z",
     "start_time": "2023-12-04T09:41:18.714088Z"
    }
   }
  },
  {
   "cell_type": "markdown",
   "source": [
    "The Elf would first like to know which games would have been possible if the bag contained only 12 red cubes, 13 green cubes, and 14 blue cubes?"
   ],
   "metadata": {
    "collapsed": false
   }
  },
  {
   "cell_type": "code",
   "execution_count": 65,
   "outputs": [
    {
     "data": {
      "text/plain": "8"
     },
     "execution_count": 65,
     "metadata": {},
     "output_type": "execute_result"
    }
   ],
   "source": [
    "\n",
    "fun Game.possibleWith(set: GameSet): Boolean = sets.all { it.blue <= set.blue && it.red <= set.red && it.green <= set.green }\n",
    "\n",
    "\n",
    "fun PuzzleInput.partOne() =\n",
    "    mapNotNull { line -> line.toGame().takeIf { it.possibleWith(GameSet(blue=14, red=12, green=13)) } }\n",
    "    .sumOf { it.id }\n",
    "    \n",
    "exampleInput.partOne()"
   ],
   "metadata": {
    "collapsed": false,
    "ExecuteTime": {
     "end_time": "2023-12-04T09:44:02.651835Z",
     "start_time": "2023-12-04T09:44:02.580791Z"
    }
   }
  },
  {
   "cell_type": "code",
   "execution_count": 66,
   "outputs": [
    {
     "data": {
      "text/plain": "2447"
     },
     "execution_count": 66,
     "metadata": {},
     "output_type": "execute_result"
    }
   ],
   "source": [
    "puzzleInput.partOne()"
   ],
   "metadata": {
    "collapsed": false,
    "ExecuteTime": {
     "end_time": "2023-12-04T09:44:25.290836Z",
     "start_time": "2023-12-04T09:44:25.260406Z"
    }
   }
  },
  {
   "cell_type": "markdown",
   "source": [
    "As you continue your walk, the Elf poses a second question: in each game you played, what is the fewest number of cubes of each color that could have been in the bag to make the game possible?"
   ],
   "metadata": {
    "collapsed": false
   }
  },
  {
   "cell_type": "code",
   "execution_count": 67,
   "outputs": [
    {
     "data": {
      "text/plain": "GameSet(blue=6, red=4, green=2)"
     },
     "execution_count": 67,
     "metadata": {},
     "output_type": "execute_result"
    }
   ],
   "source": [
    "\n",
    "\n",
    "fun Game.minSet(): GameSet = GameSet(\n",
    "    blue = sets.maxOf { it.blue },\n",
    "    red = sets.maxOf { it.red },\n",
    "    green = sets.maxOf { it.green }\n",
    ")\n",
    "\n",
    "fun PuzzleLine.minSet(): GameSet = toGame().minSet()\n",
    "\n",
    "exampleInput[0].minSet()"
   ],
   "metadata": {
    "collapsed": false,
    "ExecuteTime": {
     "end_time": "2023-12-04T09:44:27.597492Z",
     "start_time": "2023-12-04T09:44:27.541221Z"
    }
   }
  },
  {
   "cell_type": "code",
   "execution_count": 68,
   "outputs": [],
   "source": [
    "fun Game.power(): Int = minSet().let { it.blue * it.red * it.green }\n",
    "fun PuzzleLine.power(): Int = toGame().power()"
   ],
   "metadata": {
    "collapsed": false,
    "ExecuteTime": {
     "end_time": "2023-12-04T09:44:51.505779Z",
     "start_time": "2023-12-04T09:44:51.457869Z"
    }
   }
  },
  {
   "cell_type": "code",
   "execution_count": 69,
   "outputs": [],
   "source": [
    "fun PuzzleInput.partTwo() = sumOf { it.power() }"
   ],
   "metadata": {
    "collapsed": false,
    "ExecuteTime": {
     "end_time": "2023-12-04T09:44:52.416522Z",
     "start_time": "2023-12-04T09:44:52.249289Z"
    }
   }
  },
  {
   "cell_type": "code",
   "execution_count": 70,
   "outputs": [
    {
     "data": {
      "text/plain": "2286"
     },
     "execution_count": 70,
     "metadata": {},
     "output_type": "execute_result"
    }
   ],
   "source": [
    "exampleInput.partTwo()"
   ],
   "metadata": {
    "collapsed": false,
    "ExecuteTime": {
     "end_time": "2023-12-04T09:44:53.434162Z",
     "start_time": "2023-12-04T09:44:53.264224Z"
    }
   }
  },
  {
   "cell_type": "code",
   "execution_count": 71,
   "outputs": [
    {
     "data": {
      "text/plain": "56322"
     },
     "execution_count": 71,
     "metadata": {},
     "output_type": "execute_result"
    }
   ],
   "source": [
    "puzzleInput.partTwo()"
   ],
   "metadata": {
    "collapsed": false,
    "ExecuteTime": {
     "end_time": "2023-12-04T09:44:54.116725Z",
     "start_time": "2023-12-04T09:44:53.947422Z"
    }
   }
  },
  {
   "cell_type": "code",
   "execution_count": 63,
   "outputs": [],
   "source": [],
   "metadata": {
    "collapsed": false,
    "ExecuteTime": {
     "end_time": "2023-12-04T09:41:18.959133Z",
     "start_time": "2023-12-04T09:41:18.957148Z"
    }
   }
  }
 ],
 "metadata": {
  "kernelspec": {
   "display_name": "Kotlin",
   "language": "kotlin",
   "name": "kotlin"
  },
  "language_info": {
   "name": "kotlin",
   "version": "1.9.0",
   "mimetype": "text/x-kotlin",
   "file_extension": ".kt",
   "pygments_lexer": "kotlin",
   "codemirror_mode": "text/x-kotlin",
   "nbconvert_exporter": ""
  },
  "ktnbPluginMetadata": {
   "projectDependencies": true
  }
 },
 "nbformat": 4,
 "nbformat_minor": 0
}
