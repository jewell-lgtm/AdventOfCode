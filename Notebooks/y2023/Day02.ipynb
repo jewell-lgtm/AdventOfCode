{
 "cells": [
  {
   "cell_type": "code",
   "execution_count": 34,
   "metadata": {
    "collapsed": true,
    "ExecuteTime": {
     "end_time": "2023-12-04T09:37:13.357080Z",
     "start_time": "2023-12-04T09:37:13.316480Z"
    }
   },
   "outputs": [],
   "source": [
    "import java.io.File\n",
    "import util.InputReader\n",
    "\n",
    "typealias PuzzleLine = String\n",
    "typealias PuzzleInput = List<PuzzleLine>\n",
    "\n",
    "val exampleInput: PuzzleInput = InputReader.getExampleLines(2023, 2)\n",
    "val puzzleInput: PuzzleInput = InputReader.getPuzzleLines(2023, 2)"
   ]
  },
  {
   "cell_type": "code",
   "execution_count": 35,
   "outputs": [
    {
     "data": {
      "text/plain": "[Game 1: 3 blue, 4 red; 1 red, 2 green, 6 blue; 2 green, Game 2: 1 blue, 2 green; 3 green, 4 blue, 1 red; 1 green, 1 blue, Game 3: 8 green, 6 blue, 20 red; 5 blue, 4 red, 13 green; 5 green, 1 red, Game 4: 1 green, 3 red, 6 blue; 3 green, 6 red; 3 green, 15 blue, 14 red, Game 5: 6 red, 1 blue, 3 green; 2 blue, 1 red, 2 green]"
     },
     "execution_count": 35,
     "metadata": {},
     "output_type": "execute_result"
    }
   ],
   "source": [
    "exampleInput"
   ],
   "metadata": {
    "collapsed": false,
    "ExecuteTime": {
     "end_time": "2023-12-04T09:37:13.681669Z",
     "start_time": "2023-12-04T09:37:13.650827Z"
    }
   }
  },
  {
   "cell_type": "code",
   "execution_count": 36,
   "outputs": [],
   "source": [
    "data class GameSet(val blue: Int, val red: Int, val green: Int)\n",
    "data class Game(val id: Int, val sets: List<GameSet>)"
   ],
   "metadata": {
    "collapsed": false,
    "ExecuteTime": {
     "end_time": "2023-12-04T09:37:14.072770Z",
     "start_time": "2023-12-04T09:37:14.030282Z"
    }
   }
  },
  {
   "cell_type": "code",
   "execution_count": 37,
   "outputs": [
    {
     "data": {
      "text/plain": "(1, Game)"
     },
     "execution_count": 37,
     "metadata": {},
     "output_type": "execute_result"
    }
   ],
   "source": [
    "fun String.intPart(): Int = mapNotNull { it.takeIf { it.isDigit() } }.joinToString(\"\").toInt()\n",
    "\n",
    "fun Char.isWordChar(): Boolean = ('a'..'z').contains(this) || ('A'..'Z').contains(this)\n",
    "\n",
    "fun String.charPart(): String = mapNotNull { it.takeIf { it.isWordChar() } }.joinToString(\"\")\n",
    "\n",
    "exampleInput[0].split(\":\")[0].intPart() to exampleInput[0].split(\":\")[0].charPart()"
   ],
   "metadata": {
    "collapsed": false,
    "ExecuteTime": {
     "end_time": "2023-12-04T09:37:14.569512Z",
     "start_time": "2023-12-04T09:37:14.498369Z"
    }
   }
  },
  {
   "cell_type": "code",
   "execution_count": 39,
   "outputs": [
    {
     "data": {
      "text/plain": "[(3, blue), (4, red)]"
     },
     "execution_count": 39,
     "metadata": {},
     "output_type": "execute_result"
    }
   ],
   "source": [
    "exampleInput[0].split(\":\")[1].split(\"; \")[0].split(\", \").map { it.intPart() to it.charPart() }"
   ],
   "metadata": {
    "collapsed": false,
    "ExecuteTime": {
     "end_time": "2023-12-04T09:37:24.235044Z",
     "start_time": "2023-12-04T09:37:24.191651Z"
    }
   }
  },
  {
   "cell_type": "code",
   "execution_count": 40,
   "outputs": [],
   "source": [
    "fun PuzzleLine.toGame():Game {\n",
    "    val id = split(\":\")[0].intPart()\n",
    "    val sets = split(\":\")[1].split(\"; \").map { set ->\n",
    "        val colors = set.split(\", \").map { it.intPart() to it.charPart() }\n",
    "        val blue = colors.find { it.second == \"blue\" }?.first ?: 0\n",
    "        val red = colors.find { it.second == \"red\" }?.first ?: 0\n",
    "        val green = colors.find { it.second == \"green\" }?.first ?: 0\n",
    "        GameSet(blue=blue, red=red, green=green)\n",
    "    }\n",
    "     \n",
    "    return Game(id, sets)\n",
    "}\n",
    "fun PuzzleInput.toGames(): List<Game> = map { it.toGame() }"
   ],
   "metadata": {
    "collapsed": false,
    "ExecuteTime": {
     "end_time": "2023-12-04T09:37:29.782765Z",
     "start_time": "2023-12-04T09:37:29.691211Z"
    }
   }
  },
  {
   "cell_type": "code",
   "execution_count": 41,
   "outputs": [
    {
     "data": {
      "text/plain": "[Game(id=1, sets=[GameSet(blue=3, red=4, green=0), GameSet(blue=6, red=1, green=2), GameSet(blue=0, red=0, green=2)]), Game(id=2, sets=[GameSet(blue=1, red=0, green=2), GameSet(blue=4, red=1, green=3), GameSet(blue=1, red=0, green=1)]), Game(id=3, sets=[GameSet(blue=6, red=20, green=8), GameSet(blue=5, red=4, green=13), GameSet(blue=0, red=1, green=5)]), Game(id=4, sets=[GameSet(blue=6, red=3, green=1), GameSet(blue=0, red=6, green=3), GameSet(blue=15, red=14, green=3)]), Game(id=5, sets=[GameSet(blue=1, red=6, green=3), GameSet(blue=2, red=1, green=2)])]"
     },
     "execution_count": 41,
     "metadata": {},
     "output_type": "execute_result"
    }
   ],
   "source": [
    "exampleInput.toGames()"
   ],
   "metadata": {
    "collapsed": false,
    "ExecuteTime": {
     "end_time": "2023-12-04T09:37:32.620786Z",
     "start_time": "2023-12-04T09:37:32.591230Z"
    }
   }
  },
  {
   "cell_type": "code",
   "execution_count": 42,
   "outputs": [
    {
     "data": {
      "text/plain": "8"
     },
     "execution_count": 42,
     "metadata": {},
     "output_type": "execute_result"
    }
   ],
   "source": [
    "// The Elf would first like to know which games would have been possible if the bag contained only 12 red cubes, 13 green cubes, and 14 blue cubes?\n",
    "fun Game.possibleWith(set: GameSet): Boolean = sets.all { it.blue <= set.blue && it.red <= set.red && it.green <= set.green }\n",
    "\n",
    "fun PuzzleLine.possibleWith(set: GameSet): Boolean = toGame().possibleWith(set)\n",
    "\n",
    "fun PuzzleInput.partOne() =\n",
    "    filter { line -> line.possibleWith(GameSet(blue=14, red=12, green=13)) }\n",
    "        .map { it.toGame().id }\n",
    "        .sum()\n",
    "    \n",
    "exampleInput.partOne()"
   ],
   "metadata": {
    "collapsed": false,
    "ExecuteTime": {
     "end_time": "2023-12-04T09:37:54.975674Z",
     "start_time": "2023-12-04T09:37:54.896467Z"
    }
   }
  },
  {
   "cell_type": "code",
   "execution_count": 43,
   "outputs": [
    {
     "data": {
      "text/plain": "2447"
     },
     "execution_count": 43,
     "metadata": {},
     "output_type": "execute_result"
    }
   ],
   "source": [
    "puzzleInput.partOne()"
   ],
   "metadata": {
    "collapsed": false,
    "ExecuteTime": {
     "end_time": "2023-12-04T09:37:56.680176Z",
     "start_time": "2023-12-04T09:37:56.649221Z"
    }
   }
  },
  {
   "cell_type": "code",
   "execution_count": 44,
   "outputs": [
    {
     "data": {
      "text/plain": "GameSet(blue=6, red=4, green=2)"
     },
     "execution_count": 44,
     "metadata": {},
     "output_type": "execute_result"
    }
   ],
   "source": [
    "// As you continue your walk, the Elf poses a second question: in each game you played, what is the fewest number of cubes of each color that could have been in the bag to make the game possible?\n",
    "\n",
    "fun Game.minSet(): GameSet = GameSet(\n",
    "    blue = sets.maxOf { it.blue },\n",
    "    red = sets.maxOf { it.red },\n",
    "    green = sets.maxOf { it.green }\n",
    ")\n",
    "\n",
    "fun PuzzleLine.minSet(): GameSet = toGame().minSet()\n",
    "\n",
    "exampleInput[0].minSet()"
   ],
   "metadata": {
    "collapsed": false,
    "ExecuteTime": {
     "end_time": "2023-12-04T09:38:00.103018Z",
     "start_time": "2023-12-04T09:38:00.043596Z"
    }
   }
  },
  {
   "cell_type": "code",
   "execution_count": 45,
   "outputs": [],
   "source": [
    "fun Game.power(): Int = minSet().let { it.blue * it.red * it.green }\n",
    "fun PuzzleLine.power(): Int = toGame().power()"
   ],
   "metadata": {
    "collapsed": false,
    "ExecuteTime": {
     "end_time": "2023-12-04T09:38:01.537368Z",
     "start_time": "2023-12-04T09:38:01.494685Z"
    }
   }
  },
  {
   "cell_type": "code",
   "execution_count": 46,
   "outputs": [],
   "source": [
    "fun PuzzleInput.partTwo() = sumOf { it.power() }"
   ],
   "metadata": {
    "collapsed": false,
    "ExecuteTime": {
     "end_time": "2023-12-04T09:38:02.609482Z",
     "start_time": "2023-12-04T09:38:02.572648Z"
    }
   }
  },
  {
   "cell_type": "code",
   "execution_count": 47,
   "outputs": [
    {
     "data": {
      "text/plain": "2286"
     },
     "execution_count": 47,
     "metadata": {},
     "output_type": "execute_result"
    }
   ],
   "source": [
    "exampleInput.partTwo()"
   ],
   "metadata": {
    "collapsed": false,
    "ExecuteTime": {
     "end_time": "2023-12-04T09:38:03.563076Z",
     "start_time": "2023-12-04T09:38:03.529773Z"
    }
   }
  },
  {
   "cell_type": "code",
   "execution_count": 48,
   "outputs": [
    {
     "data": {
      "text/plain": "56322"
     },
     "execution_count": 48,
     "metadata": {},
     "output_type": "execute_result"
    }
   ],
   "source": [
    "puzzleInput.partTwo()"
   ],
   "metadata": {
    "collapsed": false,
    "ExecuteTime": {
     "end_time": "2023-12-04T09:38:04.069669Z",
     "start_time": "2023-12-04T09:38:04.046988Z"
    }
   }
  },
  {
   "cell_type": "code",
   "execution_count": 14,
   "outputs": [],
   "source": [],
   "metadata": {
    "collapsed": false,
    "ExecuteTime": {
     "end_time": "2023-12-04T09:34:03.595669Z",
     "start_time": "2023-12-04T09:34:03.579638Z"
    }
   }
  }
 ],
 "metadata": {
  "kernelspec": {
   "display_name": "Kotlin",
   "language": "kotlin",
   "name": "kotlin"
  },
  "language_info": {
   "name": "kotlin",
   "version": "1.9.0",
   "mimetype": "text/x-kotlin",
   "file_extension": ".kt",
   "pygments_lexer": "kotlin",
   "codemirror_mode": "text/x-kotlin",
   "nbconvert_exporter": ""
  },
  "ktnbPluginMetadata": {
   "projectDependencies": true
  }
 },
 "nbformat": 4,
 "nbformat_minor": 0
}
