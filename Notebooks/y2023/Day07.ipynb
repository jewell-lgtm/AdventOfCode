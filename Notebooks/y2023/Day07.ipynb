{
 "cells": [
  {
   "cell_type": "code",
   "execution_count": 2,
   "metadata": {
    "collapsed": true,
    "ExecuteTime": {
     "end_time": "2023-12-07T08:47:58.234184Z",
     "start_time": "2023-12-07T08:47:58.131253Z"
    }
   },
   "outputs": [],
   "source": [
    "import java.io.File\n",
    "import util.InputReader\n",
    "\n",
    "typealias PuzzleLine = String\n",
    "typealias PuzzleInput = List<PuzzleLine>\n",
    "\n",
    "val exampleInput: PuzzleInput = InputReader.getExampleLines(2023, 7)\n",
    "val puzzleInput: PuzzleInput = InputReader.getPuzzleLines(2023, 7)"
   ]
  },
  {
   "cell_type": "code",
   "execution_count": 3,
   "outputs": [
    {
     "data": {
      "text/plain": "[32T3K 765, T55J5 684, KK677 28, KTJJT 220, QQQJA 483]"
     },
     "execution_count": 3,
     "metadata": {},
     "output_type": "execute_result"
    }
   ],
   "source": [
    "exampleInput"
   ],
   "metadata": {
    "collapsed": false,
    "ExecuteTime": {
     "end_time": "2023-12-07T08:47:59.448506Z",
     "start_time": "2023-12-07T08:47:59.390741Z"
    }
   }
  },
  {
   "cell_type": "code",
   "execution_count": 5,
   "outputs": [
    {
     "data": {
      "text/plain": "Card(value=K)"
     },
     "execution_count": 5,
     "metadata": {},
     "output_type": "execute_result"
    }
   ],
   "source": [
    "val cardValues = listOf('A', 'K', 'Q', 'J', 'T', '9', '8', '7', '6', '5', '4', '3', '2')\n",
    "\n",
    "data class Card(val value: Char) {\n",
    "    val numericValue = cardValues.indexOf(value)\n",
    "}\n",
    "\n",
    "fun Char.toCard() = if (cardValues.contains(this)) Card(this) else error(\"Invalid card value: $this\")\n",
    "\n",
    "'K'.toCard()"
   ],
   "metadata": {
    "collapsed": false,
    "ExecuteTime": {
     "end_time": "2023-12-07T08:48:11.406128Z",
     "start_time": "2023-12-07T08:48:11.318787Z"
    }
   }
  },
  {
   "cell_type": "code",
   "execution_count": 6,
   "outputs": [
    {
     "data": {
      "text/plain": "[false, true]"
     },
     "execution_count": 6,
     "metadata": {},
     "output_type": "execute_result"
    }
   ],
   "source": [
    "operator fun Card.compareTo(card: Card) = card.numericValue.compareTo(this.numericValue)\n",
    "\n",
    "listOf('K' > 'Q', Card('K') > Card('Q'))"
   ],
   "metadata": {
    "collapsed": false,
    "ExecuteTime": {
     "end_time": "2023-12-07T08:48:15.017656Z",
     "start_time": "2023-12-07T08:48:14.948570Z"
    }
   }
  },
  {
   "cell_type": "code",
   "execution_count": 29,
   "outputs": [
    {
     "data": {
      "text/plain": "Hand(cards=[Card(value=3), Card(value=2), Card(value=T), Card(value=3), Card(value=K)], bid=765)"
     },
     "execution_count": 29,
     "metadata": {},
     "output_type": "execute_result"
    }
   ],
   "source": [
    "data class Hand(val cards: List<Card>, val bid: Int) {\n",
    "    init {\n",
    "        require(cards.size == 5) { \"A hand must have exactly 5 cards\" }\n",
    "    }\n",
    "    \n",
    "    \n",
    "}\n",
    "\n",
    "fun PuzzleLine.toHand(): Hand {\n",
    "    val (cards, bidStr) = this.split(\" \")\n",
    "    return Hand(cards.map { it.toCard() }, bidStr.toInt())\n",
    "}\n",
    "\n",
    "exampleInput[0].toHand()"
   ],
   "metadata": {
    "collapsed": false,
    "ExecuteTime": {
     "end_time": "2023-12-07T09:00:55.780858Z",
     "start_time": "2023-12-07T09:00:55.708452Z"
    }
   }
  },
  {
   "cell_type": "code",
   "execution_count": 30,
   "outputs": [
    {
     "data": {
      "text/plain": "[Hand(cards=[Card(value=3), Card(value=2), Card(value=T), Card(value=3), Card(value=K)], bid=765), Hand(cards=[Card(value=T), Card(value=5), Card(value=5), Card(value=J), Card(value=5)], bid=684), Hand(cards=[Card(value=K), Card(value=K), Card(value=6), Card(value=7), Card(value=7)], bid=28), Hand(cards=[Card(value=K), Card(value=T), Card(value=J), Card(value=J), Card(value=T)], bid=220), Hand(cards=[Card(value=Q), Card(value=Q), Card(value=Q), Card(value=J), Card(value=A)], bid=483)]"
     },
     "execution_count": 30,
     "metadata": {},
     "output_type": "execute_result"
    }
   ],
   "source": [
    "fun PuzzleInput.toHands() = this.map { it.toHand() }\n",
    "\n",
    "exampleInput.toHands()"
   ],
   "metadata": {
    "collapsed": false,
    "ExecuteTime": {
     "end_time": "2023-12-07T09:00:57.600948Z",
     "start_time": "2023-12-07T09:00:57.548862Z"
    }
   }
  },
  {
   "cell_type": "code",
   "execution_count": 10,
   "outputs": [
    {
     "data": {
      "text/plain": "[Card(value=3), Card(value=2), Card(value=T), Card(value=3), Card(value=K)]"
     },
     "execution_count": 10,
     "metadata": {},
     "output_type": "execute_result"
    }
   ],
   "source": [
    "fun Hand.toList() = cards\n",
    "fun Hand.toSet() = cards.toSet()\n",
    "\n",
    "exampleInput[0].toHand().toList()"
   ],
   "metadata": {
    "collapsed": false,
    "ExecuteTime": {
     "end_time": "2023-12-07T08:49:18.590145Z",
     "start_time": "2023-12-07T08:49:18.546316Z"
    }
   }
  },
  {
   "cell_type": "code",
   "execution_count": 11,
   "outputs": [
    {
     "name": "stdout",
     "output_type": "stream",
     "text": [
      "[FiveOfAKind, FourOfAKind, FullHouse, ThreeOfAKind, TwoPair, OnePair, HighCard]\n"
     ]
    },
    {
     "data": {
      "text/plain": "true"
     },
     "execution_count": 11,
     "metadata": {},
     "output_type": "execute_result"
    }
   ],
   "source": [
    "enum class HandType {\n",
    "    HighCard,\n",
    "    OnePair,\n",
    "    TwoPair,\n",
    "    ThreeOfAKind,\n",
    "    FullHouse,\n",
    "    FourOfAKind,\n",
    "    FiveOfAKind,\n",
    "}\n",
    "\n",
    "fun Hand.equalCardCounts(): List<Int> {\n",
    "    val groups = cards.groupBy { it.value }.values\n",
    "    return groups.map { it.size }.sortedDescending()\n",
    "}\n",
    "\n",
    "val Hand.type\n",
    "    get() = when (equalCardCounts()) {\n",
    "        listOf(5) -> HandType.FiveOfAKind\n",
    "        listOf(4, 1) -> HandType.FourOfAKind\n",
    "        listOf(3, 2) -> HandType.FullHouse\n",
    "        listOf(3, 1, 1) -> HandType.ThreeOfAKind\n",
    "        listOf(2, 2, 1) -> HandType.TwoPair\n",
    "        listOf(2, 1, 1, 1) -> HandType.OnePair\n",
    "        else -> HandType.HighCard\n",
    "    }\n",
    "\n",
    "println(listOf(\"KKKKK 1\", \"KKKK8 1\", \"KKK88 1\", \"KKK89 1\", \"KKQQ9 1\", \"KK234 1\", \"KQJT9 1\").map { it.toHand().type })\n",
    "\n",
    "listOf(HandType.FiveOfAKind, HandType.FourOfAKind, HandType.FullHouse, HandType.ThreeOfAKind, HandType.TwoPair, HandType.OnePair).windowed(2).all { it[0] > it[1] }"
   ],
   "metadata": {
    "collapsed": false,
    "ExecuteTime": {
     "end_time": "2023-12-07T08:49:40.953077Z",
     "start_time": "2023-12-07T08:49:40.718467Z"
    }
   }
  },
  {
   "cell_type": "code",
   "execution_count": 16,
   "outputs": [
    {
     "data": {
      "text/plain": "false"
     },
     "execution_count": 16,
     "metadata": {},
     "output_type": "execute_result"
    }
   ],
   "source": [
    "infix fun Hand.zip(that: Hand) = this.toList() zip that.toList()\n",
    "\n",
    "fun <T> List<T>.firstNonZeroOf(f: (T) -> Int) = this.firstNotNullOfOrNull { f(it).takeUnless { it == 0 }  }\n",
    "\n",
    "operator fun Hand.compareTo(other: Hand): Int {\n",
    "    val typeRanking = this.type.compareTo(other.type)\n",
    "    if (typeRanking != 0) return typeRanking\n",
    "    val positionCardRanking =\n",
    "        (this zip other).firstNonZeroOf { (a, b) -> a.compareTo(b) }\n",
    "    if (positionCardRanking != null) return positionCardRanking\n",
    "    return 0\n",
    "}\n",
    "\n",
    "exampleInput[0].toHand() > exampleInput[0].toHand()"
   ],
   "metadata": {
    "collapsed": false,
    "ExecuteTime": {
     "end_time": "2023-12-07T08:52:58.693836Z",
     "start_time": "2023-12-07T08:52:58.601183Z"
    }
   }
  },
  {
   "cell_type": "code",
   "execution_count": 31,
   "outputs": [
    {
     "name": "stderr",
     "output_type": "stream",
     "text": [
      "Line_31.jupyter.kts (2:24 - 30) Unresolved reference. None of the following candidates is applicable because of receiver type mismatch: \n",
      "public fun <T : Comparable<TypeVariable(T)>> Array<out TypeVariable(T)>.sorted(): List<TypeVariable(T)> defined in kotlin.collections\n",
      "public fun ByteArray.sorted(): List<Byte> defined in kotlin.collections\n",
      "public fun CharArray.sorted(): List<Char> defined in kotlin.collections\n",
      "public fun DoubleArray.sorted(): List<Double> defined in kotlin.collections\n",
      "public fun FloatArray.sorted(): List<Float> defined in kotlin.collections\n",
      "public fun IntArray.sorted(): List<Int> defined in kotlin.collections\n",
      "public fun LongArray.sorted(): List<Long> defined in kotlin.collections\n",
      "public fun ShortArray.sorted(): List<Short> defined in kotlin.collections\n",
      "public fun UByteArray.sorted(): List<UByte> defined in kotlin.collections\n",
      "public fun UIntArray.sorted(): List<UInt> defined in kotlin.collections\n",
      "public fun ULongArray.sorted(): List<ULong> defined in kotlin.collections\n",
      "public fun UShortArray.sorted(): List<UShort> defined in kotlin.collections\n",
      "public fun <T : Comparable<TypeVariable(T)>> Iterable<TypeVariable(T)>.sorted(): List<TypeVariable(T)> defined in kotlin.collections\n",
      "public fun <T : Comparable<TypeVariable(T)>> Sequence<TypeVariable(T)>.sorted(): Sequence<TypeVariable(T)> defined in kotlin.sequences"
     ]
    }
   ],
   "source": [
    "listOf(1,2,3).sorted()\n",
    "exampleInput.toHands().sorted()"
   ],
   "metadata": {
    "collapsed": false,
    "ExecuteTime": {
     "end_time": "2023-12-07T09:03:36.299400Z",
     "start_time": "2023-12-07T09:03:36.271829Z"
    }
   }
  },
  {
   "cell_type": "code",
   "execution_count": 23,
   "outputs": [],
   "source": [
    "fun PuzzleInput.partOne(): Int {\n",
    "    val hands = this.toHands()\n",
    "\n",
    "\n",
    "    return -1\n",
    "}"
   ],
   "metadata": {
    "collapsed": false,
    "ExecuteTime": {
     "end_time": "2023-12-07T08:56:54.504078Z",
     "start_time": "2023-12-07T08:56:54.470973Z"
    }
   }
  },
  {
   "cell_type": "code",
   "execution_count": 18,
   "outputs": [
    {
     "data": {
      "text/plain": "-1"
     },
     "execution_count": 18,
     "metadata": {},
     "output_type": "execute_result"
    }
   ],
   "source": [
    "exampleInput.partOne()"
   ],
   "metadata": {
    "collapsed": false,
    "ExecuteTime": {
     "end_time": "2023-12-07T08:53:06.744030Z",
     "start_time": "2023-12-07T08:53:06.714654Z"
    }
   }
  },
  {
   "cell_type": "code",
   "execution_count": null,
   "outputs": [],
   "source": [],
   "metadata": {
    "collapsed": false
   }
  }
 ],
 "metadata": {
  "kernelspec": {
   "display_name": "Kotlin",
   "language": "kotlin",
   "name": "kotlin"
  },
  "language_info": {
   "name": "kotlin",
   "version": "1.9.0",
   "mimetype": "text/x-kotlin",
   "file_extension": ".kt",
   "pygments_lexer": "kotlin",
   "codemirror_mode": "text/x-kotlin",
   "nbconvert_exporter": ""
  },
  "ktnbPluginMetadata": {
   "projectDependencies": true
  }
 },
 "nbformat": 4,
 "nbformat_minor": 0
}
