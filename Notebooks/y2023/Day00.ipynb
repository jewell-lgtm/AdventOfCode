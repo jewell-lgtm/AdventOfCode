{
 "cells": [
  {
   "cell_type": "code",
   "execution_count": 1,
   "metadata": {
    "collapsed": true,
    "ExecuteTime": {
     "end_time": "2023-12-04T08:55:42.810082Z",
     "start_time": "2023-12-04T08:55:42.726608Z"
    }
   },
   "outputs": [],
   "source": [
    "import java.io.File\n",
    "import util.InputReader\n",
    "\n",
    "typealias PuzzleLine = String\n",
    "typealias PuzzleInput = List<PuzzleLine>\n",
    "\n",
    "val exampleInput: PuzzleInput = InputReader.getExampleLines(2023, 1)\n",
    "val puzzleInput: PuzzleInput = InputReader.getPuzzleLines(2023, 1)"
   ]
  },
  {
   "cell_type": "code",
   "execution_count": 2,
   "outputs": [
    {
     "data": {
      "text/plain": "[1abc2, pqr3stu8vwx, a1b2c3d4e5f, treb7uchet]"
     },
     "execution_count": 2,
     "metadata": {},
     "output_type": "execute_result"
    }
   ],
   "source": [
    "exampleInput"
   ],
   "metadata": {
    "collapsed": false,
    "ExecuteTime": {
     "end_time": "2023-12-04T08:55:43.711006Z",
     "start_time": "2023-12-04T08:55:43.541731Z"
    }
   }
  },
  {
   "cell_type": "code",
   "execution_count": null,
   "outputs": [],
   "source": [],
   "metadata": {
    "collapsed": false
   }
  }
 ],
 "metadata": {
  "kernelspec": {
   "display_name": "Kotlin",
   "language": "kotlin",
   "name": "kotlin"
  },
  "language_info": {
   "name": "kotlin",
   "version": "1.9.0",
   "mimetype": "text/x-kotlin",
   "file_extension": ".kt",
   "pygments_lexer": "kotlin",
   "codemirror_mode": "text/x-kotlin",
   "nbconvert_exporter": ""
  },
  "ktnbPluginMetadata": {
   "projectDependencies": true
  }
 },
 "nbformat": 4,
 "nbformat_minor": 0
}
