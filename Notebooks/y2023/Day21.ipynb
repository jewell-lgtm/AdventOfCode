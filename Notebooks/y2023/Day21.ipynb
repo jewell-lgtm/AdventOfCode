{
 "cells": [
  {
   "cell_type": "code",
   "execution_count": 3,
   "metadata": {
    "collapsed": true,
    "ExecuteTime": {
     "end_time": "2024-01-10T22:53:35.710570Z",
     "start_time": "2024-01-10T22:53:35.657795Z"
    }
   },
   "outputs": [],
   "source": [
    "import java.io.File\n",
    "import util.InputReader\n",
    "\n",
    "typealias PuzzleLine = String\n",
    "typealias PuzzleInput = List<PuzzleLine>\n",
    "\n",
    "val exampleInput: PuzzleInput = InputReader.getExampleLines(2023, 21)\n",
    "val puzzleInput: PuzzleInput = InputReader.getPuzzleLines(2023, 21)"
   ]
  },
  {
   "cell_type": "code",
   "execution_count": 4,
   "outputs": [
    {
     "data": {
      "text/plain": "[..........., .....###.#., .###.##..#., ..#.#...#.., ....#.#...., .##..S####., .##..#...#., .......##.., .##.#.####., .##..##.##., ...........]"
     },
     "execution_count": 4,
     "metadata": {},
     "output_type": "execute_result"
    }
   ],
   "source": [
    "exampleInput"
   ],
   "metadata": {
    "collapsed": false,
    "ExecuteTime": {
     "end_time": "2024-01-10T22:53:35.878580Z",
     "start_time": "2024-01-10T22:53:35.842662Z"
    }
   }
  },
  {
   "cell_type": "code",
   "execution_count": 13,
   "outputs": [],
   "source": [
    "\n",
    "fun <E> List<E>.findIndex(predicate: (row: E) -> Boolean): Int {\n",
    "    this.forEachIndexed { index, row ->\n",
    "        if (predicate(row)) {\n",
    "            return index\n",
    "        }\n",
    "    }\n",
    "    return -1\n",
    "}\n",
    "\n",
    "data class GridPosition(val y: Int, val x: Int)\n",
    "fun List<String>.startingPosition(): GridPosition {\n",
    "    val y = this.findIndex { it.contains(\"S\") }\n",
    "    val x = this[y].indexOf(\"S\")\n",
    "    return GridPosition(y, x)\n",
    "}\n",
    "\n"
   ],
   "metadata": {
    "collapsed": false,
    "ExecuteTime": {
     "end_time": "2024-01-10T22:59:56.393704Z",
     "start_time": "2024-01-10T22:59:56.306196Z"
    }
   }
  },
  {
   "cell_type": "code",
   "outputs": [
    {
     "data": {
      "text/plain": "[GridPosition(y=5, x=5), GridPosition(y=65, x=65)]"
     },
     "execution_count": 14,
     "metadata": {},
     "output_type": "execute_result"
    }
   ],
   "source": [
    "listOf(exampleInput.startingPosition(), puzzleInput.startingPosition())"
   ],
   "metadata": {
    "collapsed": false,
    "ExecuteTime": {
     "end_time": "2024-01-10T22:59:58.397647Z",
     "start_time": "2024-01-10T22:59:58.358136Z"
    }
   },
   "execution_count": 14
  },
  {
   "cell_type": "code",
   "outputs": [],
   "source": [
    "import java.util.ArrayDeque\n",
    "import java.util.Queue\n",
    "\n",
    "fun <E> Collection<E>.toDeque(): Queue<E> {\n",
    "    val queue = ArrayDeque<E>()\n",
    "    this.forEach { queue.add(it) }\n",
    "    return queue\n",
    "}\n",
    "\n",
    "fun List<String>.partOne(startingSteps: Int): Int {\n",
    "    val answer = mutableSetOf<GridPosition>()\n",
    "    val queue = listOf(startingPosition() to startingSteps).toDeque()\n",
    "    val seen = mutableSetOf(startingPosition())\n",
    "    \n",
    "    while (queue.isNotEmpty()) {\n",
    "        val (pos, steps) = queue.poll()\n",
    "        \n",
    "    }\n",
    "    \n",
    "    \n",
    "    return -1\n",
    "}"
   ],
   "metadata": {
    "collapsed": false,
    "ExecuteTime": {
     "end_time": "2024-01-10T23:03:19.369167Z",
     "start_time": "2024-01-10T23:03:19.277265Z"
    }
   },
   "execution_count": 15
  },
  {
   "cell_type": "code",
   "outputs": [],
   "source": [],
   "metadata": {
    "collapsed": false
   }
  }
 ],
 "metadata": {
  "kernelspec": {
   "display_name": "Kotlin",
   "language": "kotlin",
   "name": "kotlin"
  },
  "language_info": {
   "name": "kotlin",
   "version": "1.9.0",
   "mimetype": "text/x-kotlin",
   "file_extension": ".kt",
   "pygments_lexer": "kotlin",
   "codemirror_mode": "text/x-kotlin",
   "nbconvert_exporter": ""
  },
  "ktnbPluginMetadata": {
   "projectDependencies": true
  }
 },
 "nbformat": 4,
 "nbformat_minor": 0
}
