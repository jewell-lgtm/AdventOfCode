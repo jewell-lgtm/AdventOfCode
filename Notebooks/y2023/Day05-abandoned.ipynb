{
 "cells": [
  {
   "cell_type": "code",
   "execution_count": 19,
   "outputs": [],
   "source": [
    "import java.io.File\n",
    "import util.InputReader\n",
    "\n",
    "typealias PuzzleInput = String\n",
    "\n",
    "val exampleInput: PuzzleInput = InputReader.getExample(2023, 5)\n",
    "val puzzleInput: PuzzleInput = InputReader.getPuzzleInput(2023, 5)"
   ],
   "metadata": {
    "collapsed": false,
    "ExecuteTime": {
     "end_time": "2023-12-05T15:45:34.234258Z",
     "start_time": "2023-12-05T15:45:34.190998Z"
    }
   }
  },
  {
   "cell_type": "code",
   "execution_count": 20,
   "outputs": [
    {
     "data": {
      "text/plain": "seeds: 79 14 55 13\n\nseed-to-soil map:\n50 98 2\n52 50 48\n\nsoil-to-fertilizer map:\n0 15 37\n37 52 2\n39 0 15\n\nfertilizer-to-water map:\n49 53 8\n0 11 42\n42 0 7\n57 7 4\n\nwater-to-light map:\n88 18 7\n18 25 70\n\nlight-to-temperature map:\n45 77 23\n81 45 19\n68 64 13\n\ntemperature-to-humidity map:\n0 69 1\n1 0 69\n\nhumidity-to-location map:\n60 56 37\n56 93 4"
     },
     "execution_count": 20,
     "metadata": {},
     "output_type": "execute_result"
    }
   ],
   "source": [
    "\n",
    "exampleInput"
   ],
   "metadata": {
    "collapsed": false,
    "ExecuteTime": {
     "end_time": "2023-12-05T15:45:34.267211Z",
     "start_time": "2023-12-05T15:45:34.232515Z"
    }
   }
  },
  {
   "cell_type": "code",
   "execution_count": 21,
   "outputs": [
    {
     "data": {
      "text/plain": "[79, 14, 55, 13]"
     },
     "execution_count": 21,
     "metadata": {},
     "output_type": "execute_result"
    }
   ],
   "source": [
    "fun PuzzleInput.seeds(): List<Long> = lines().first().split(\"seeds: \")[1].split(\" \").map { it.toLong() }\n",
    "\n",
    "exampleInput.seeds()"
   ],
   "metadata": {
    "collapsed": false,
    "ExecuteTime": {
     "end_time": "2023-12-05T15:45:34.308118Z",
     "start_time": "2023-12-05T15:45:34.258215Z"
    }
   }
  },
  {
   "cell_type": "code",
   "execution_count": 22,
   "outputs": [
    {
     "data": {
      "text/plain": "{seed=[SeedMapping(from=seed, to=soil, sourceRange=98..100, offset=-48), SeedMapping(from=seed, to=soil, sourceRange=50..98, offset=2)], soil=[SeedMapping(from=soil, to=fertilizer, sourceRange=15..52, offset=-15), SeedMapping(from=soil, to=fertilizer, sourceRange=52..54, offset=-15), SeedMapping(from=soil, to=fertilizer, sourceRange=0..15, offset=39)], fertilizer=[SeedMapping(from=fertilizer, to=water, sourceRange=53..61, offset=-4), SeedMapping(from=fertilizer, to=water, sourceRange=11..53, offset=-11), SeedMapping(from=fertilizer, to=water, sourceRange=0..7, offset=42), SeedMapping(from=fertilizer, to=water, sourceRange=7..11, offset=50)], water=[SeedMapping(from=water, to=light, sourceRange=18..25, offset=70), SeedMapping(from=water, to=light, sourceRange=25..95, offset=-7)], light=[SeedMapping(from=light, to=temperature, sourceRange=77..100, offset=-32), SeedMapping(from=light, to=temperature, sourceRange=45..64, offset=36), SeedMapping(from=light, to=temperature, sourceRange=64..77, offset=4)], temperature=[SeedMapping(from=temperature, to=humidity, sourceRange=69..70, offset=-69), SeedMapping(from=temperature, to=humidity, sourceRange=0..69, offset=1)], humidity=[SeedMapping(from=humidity, to=location, sourceRange=56..93, offset=4), SeedMapping(from=humidity, to=location, sourceRange=93..97, offset=-37)]}"
     },
     "execution_count": 22,
     "metadata": {},
     "output_type": "execute_result"
    }
   ],
   "source": [
    "data class SeedMapping(val from: String, val to: String, val sourceRange: LongRange, val offset: Long) {\n",
    "    val destinationStart = sourceRange.first + offset\n",
    "}\n",
    "\n",
    "fun SeedMapping(line: String): SeedMapping {\n",
    "    val (from, to, sourceBegin, sourceEnd, offset) = line.split(\" \")\n",
    "    return SeedMapping(from, to, sourceBegin.toLong()..sourceEnd.toLong(), offset.toLong())\n",
    "} \n",
    "\n",
    "fun SeedMapping(from: String, to: String, string: String): SeedMapping {\n",
    "    val (destinationBegin, sourceBegin, length) = string.split(\" \").map { it.toLong() }\n",
    "    val offset = destinationBegin - sourceBegin\n",
    "    val sourceRange = sourceBegin..(sourceBegin + length)\n",
    "    return SeedMapping(from, to, sourceRange, offset)\n",
    "}\n",
    "\n",
    "fun PuzzleInput.seedMappers() =\n",
    "    lines().drop(2).joinToString(\"\\n\").split(\"\\n\\n\")\n",
    "        .flatMap { chunk ->\n",
    "            val (header, rest) = chunk.split(\"\\n\", limit = 2)\n",
    "            val (from, _, to) = header.split(\" \")[0].split(\"-\")\n",
    "            rest.lines().map { SeedMapping(from, to, it) }\n",
    "        }.groupBy { it.from }\n",
    "\n",
    "\n",
    "exampleInput.seedMappers()"
   ],
   "metadata": {
    "collapsed": false,
    "ExecuteTime": {
     "end_time": "2023-12-05T15:45:34.459808Z",
     "start_time": "2023-12-05T15:45:34.306650Z"
    }
   }
  },
  {
   "cell_type": "code",
   "execution_count": 23,
   "outputs": [
    {
     "data": {
      "text/plain": "{0..10=0}"
     },
     "execution_count": 23,
     "metadata": {},
     "output_type": "execute_result"
    }
   ],
   "source": [
    "typealias SeedMap = Map<LongRange, Long>\n",
    "fun SeedMap(range: LongRange) = SeedMap(range.first, range.last)\n",
    "fun SeedMap(min: Long, max: Long) = SeedMap(min, max, 0L)\n",
    "fun SeedMap(range: LongRange, offset: Long) = SeedMap(range.first, range.last, offset)\n",
    "fun SeedMap() = SeedMap(0L..Long.MAX_VALUE)\n",
    "\n",
    "fun SeedMap(min: Long, max: Long, offset: Long): SeedMap = mapOf(min..max to offset)\n",
    "\n",
    "\n",
    "SeedMap(0L..10L)\n",
    " "
   ],
   "metadata": {
    "collapsed": false,
    "ExecuteTime": {
     "end_time": "2023-12-05T15:45:34.511215Z",
     "start_time": "2023-12-05T15:45:34.459052Z"
    }
   }
  },
  {
   "cell_type": "code",
   "execution_count": 24,
   "outputs": [
    {
     "data": {
      "text/plain": "[[0..10, 10..20, 20..99], [0..10, 10..80, 80..90]]"
     },
     "execution_count": 24,
     "metadata": {},
     "output_type": "execute_result"
    }
   ],
   "source": [
    "// split a range by another range\n",
    "fun LongRange.split(by: LongRange): List<LongRange> {\n",
    "    val points = listOf(first, last, by.first, by.last).sorted()\n",
    "    return points.zipWithNext().map { it.first..it.second }\n",
    "}\n",
    "fun LongRange.overlaps(other: LongRange): Boolean = first <= other.last && other.first <= last\n",
    "fun LongRange.contains(other: LongRange): Boolean = first <= other.first && other.last <= last\n",
    "\n",
    "listOf(\n",
    "    // should be [0..10, 10..20, 20..99]\n",
    "    (0L..99L).split(10L..20L),\n",
    "    (0L..10L).split(80L..90L)\n",
    ")"
   ],
   "metadata": {
    "collapsed": false,
    "ExecuteTime": {
     "end_time": "2023-12-05T15:45:34.575933Z",
     "start_time": "2023-12-05T15:45:34.510553Z"
    }
   }
  },
  {
   "cell_type": "code",
   "execution_count": 25,
   "outputs": [
    {
     "data": {
      "text/plain": "{0..5=0, 5..10=0, 10..15=0, 15..20=0, 20..99=0}"
     },
     "execution_count": 25,
     "metadata": {},
     "output_type": "execute_result"
    }
   ],
   "source": [
    "fun SeedMap.splitBy(range: LongRange) = flatMap { (key, value) ->\n",
    "    if (key.overlaps(range)) {\n",
    "        key.split(range).map { it to value }\n",
    "    } else {\n",
    "        listOf(key to value)\n",
    "    }\n",
    "}.toMap()\n",
    "\n",
    "SeedMap(0L, 99L).splitBy(10L..20L).splitBy(5L..15L)"
   ],
   "metadata": {
    "collapsed": false,
    "ExecuteTime": {
     "end_time": "2023-12-05T15:45:34.654741Z",
     "start_time": "2023-12-05T15:45:34.574266Z"
    }
   }
  },
  {
   "cell_type": "code",
   "execution_count": 26,
   "outputs": [
    {
     "data": {
      "text/plain": "{0..5=0, 5..10=10, 10..15=10, 15..20=5, 20..30=0}"
     },
     "execution_count": 26,
     "metadata": {},
     "output_type": "execute_result"
    }
   ],
   "source": [
    "fun SeedMap.splitBy(range: LongRange, newOffset: Long): SeedMap {\n",
    "    val split = splitBy(range).toMutableMap()\n",
    "    for (key in split.keys) {\n",
    "        if (range.contains(key)) {\n",
    "            split[key] = newOffset\n",
    "        }\n",
    "    }\n",
    "    return split\n",
    "}\n",
    "\n",
    "SeedMap(0L..30L).splitBy(10L..20L, 5L).splitBy(5L..15L, 10L)"
   ],
   "metadata": {
    "collapsed": false,
    "ExecuteTime": {
     "end_time": "2023-12-05T15:45:34.710398Z",
     "start_time": "2023-12-05T15:45:34.653870Z"
    }
   }
  },
  {
   "cell_type": "code",
   "execution_count": 34,
   "outputs": [
    {
     "data": {
      "text/plain": "{0..15=0, 15..52=-15, 52..100=0}"
     },
     "execution_count": 34,
     "metadata": {},
     "output_type": "execute_result"
    }
   ],
   "source": [
    "fun SeedMap.splitBy(mapper: SeedMapping) = splitBy(mapper.sourceRange, mapper.offset)\n",
    "SeedMap(0L, 100L).splitBy(exampleInput.seedMappers()[\"soil\"]!!.first())"
   ],
   "metadata": {
    "collapsed": false,
    "ExecuteTime": {
     "end_time": "2023-12-05T15:46:12.037920Z",
     "start_time": "2023-12-05T15:46:11.987204Z"
    }
   }
  },
  {
   "cell_type": "code",
   "execution_count": 35,
   "outputs": [
    {
     "data": {
      "text/plain": "12"
     },
     "execution_count": 35,
     "metadata": {},
     "output_type": "execute_result"
    }
   ],
   "source": [
    "fun SeedMap.assertBounds(seed: Long) {\n",
    "    val minOf = this.keys.minOf { it.first }\n",
    "    if (seed < minOf || seed > this.keys.maxOf { it.last }) {\n",
    "        throw Exception(\"Seed $seed is out of bounds\")\n",
    "    }\n",
    "}\n",
    "\n",
    "fun SeedMap.mapSeed(seed: Long): Long {\n",
    "    this.assertBounds(seed)\n",
    "    return this.entries.first { it.key.contains(seed) }.value + seed\n",
    "}\n",
    "\n",
    "SeedMap(10L, 20L, 2).mapSeed(10L)"
   ],
   "metadata": {
    "collapsed": false,
    "ExecuteTime": {
     "end_time": "2023-12-05T15:46:16.362835Z",
     "start_time": "2023-12-05T15:46:16.216427Z"
    }
   }
  },
  {
   "cell_type": "code",
   "execution_count": 36,
   "outputs": [
    {
     "data": {
      "text/plain": "[97, 98, 99, 100, 101]"
     },
     "execution_count": 36,
     "metadata": {},
     "output_type": "execute_result"
    }
   ],
   "source": [
    "fun SeedMapping.mapSeed(seed: Long) = if (sourceRange.contains(seed)) offset + seed else seed\n",
    "listOf(97L, 98L, 99L, 100L, 101L).map { exampleInput.seedMappers()[\"soil\"]!!.first().mapSeed(it) }"
   ],
   "metadata": {
    "collapsed": false,
    "ExecuteTime": {
     "end_time": "2023-12-05T15:46:23.515305Z",
     "start_time": "2023-12-05T15:46:23.444183Z"
    }
   }
  },
  {
   "cell_type": "code",
   "execution_count": null,
   "outputs": [],
   "source": [
    "fun partOne(input: PuzzleInput): Long {}"
   ],
   "metadata": {
    "collapsed": false
   }
  },
  {
   "cell_type": "code",
   "execution_count": 37,
   "outputs": [],
   "source": [],
   "metadata": {
    "collapsed": false,
    "ExecuteTime": {
     "end_time": "2023-12-05T15:47:03.155144Z",
     "start_time": "2023-12-05T15:47:03.124284Z"
    }
   }
  },
  {
   "cell_type": "code",
   "execution_count": 31,
   "outputs": [],
   "source": [],
   "metadata": {
    "collapsed": false,
    "ExecuteTime": {
     "end_time": "2023-12-05T15:45:34.891189Z",
     "start_time": "2023-12-05T15:45:34.885146Z"
    }
   }
  },
  {
   "cell_type": "code",
   "execution_count": 32,
   "outputs": [],
   "source": [],
   "metadata": {
    "collapsed": false,
    "ExecuteTime": {
     "end_time": "2023-12-05T15:45:34.891825Z",
     "start_time": "2023-12-05T15:45:34.886228Z"
    }
   }
  }
 ],
 "metadata": {
  "kernelspec": {
   "display_name": "Kotlin",
   "language": "kotlin",
   "name": "kotlin"
  },
  "language_info": {
   "name": "kotlin",
   "version": "1.9.0",
   "mimetype": "text/x-kotlin",
   "file_extension": ".kt",
   "pygments_lexer": "kotlin",
   "codemirror_mode": "text/x-kotlin",
   "nbconvert_exporter": ""
  },
  "ktnbPluginMetadata": {
   "projectDependencies": true
  }
 },
 "nbformat": 4,
 "nbformat_minor": 0
}
