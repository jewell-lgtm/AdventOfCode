{
 "cells": [
  {
   "cell_type": "code",
   "execution_count": 1,
   "metadata": {
    "collapsed": true,
    "ExecuteTime": {
     "end_time": "2024-01-08T08:16:44.700466Z",
     "start_time": "2024-01-08T08:16:44.600636Z"
    }
   },
   "outputs": [],
   "source": [
    "import java.io.File\n",
    "import util.InputReader\n",
    "\n",
    "typealias PuzzleLine = String\n",
    "typealias PuzzleInput = List<PuzzleLine>\n",
    "\n",
    "val exampleInput: PuzzleInput = InputReader.getExampleLines(2023, 1)\n",
    "val puzzleInput: PuzzleInput = InputReader.getPuzzleLines(2023, 1)"
   ]
  },
  {
   "cell_type": "code",
   "execution_count": 2,
   "outputs": [
    {
     "data": {
      "text/plain": "[1abc2, pqr3stu8vwx, a1b2c3d4e5f, treb7uchet]"
     },
     "execution_count": 2,
     "metadata": {},
     "output_type": "execute_result"
    }
   ],
   "source": [
    "exampleInput"
   ],
   "metadata": {
    "collapsed": false,
    "ExecuteTime": {
     "end_time": "2024-01-08T08:16:44.755625Z",
     "start_time": "2024-01-08T08:16:44.700267Z"
    }
   }
  },
  {
   "cell_type": "code",
   "execution_count": 3,
   "outputs": [
    {
     "data": {
      "text/plain": "[7]"
     },
     "execution_count": 3,
     "metadata": {},
     "output_type": "execute_result"
    }
   ],
   "source": [
    "fun PuzzleLine.getAllDigits(): List<Int> \n",
    "    = mapNotNull { it.toString().toIntOrNull() }\n",
    "    \n",
    "exampleInput.lastOrNull()?.getAllDigits()"
   ],
   "metadata": {
    "collapsed": false,
    "ExecuteTime": {
     "end_time": "2024-01-08T08:16:52.552419Z",
     "start_time": "2024-01-08T08:16:52.360350Z"
    }
   }
  },
  {
   "cell_type": "code",
   "execution_count": 4,
   "outputs": [
    {
     "data": {
      "text/plain": "[12, 38, 15, 77]"
     },
     "execution_count": 4,
     "metadata": {},
     "output_type": "execute_result"
    }
   ],
   "source": [
    "fun PuzzleInput.getAll2DigitNumbers(): List<Int> =\n",
    "    map { line -> \"${line.getAllDigits().first()}${line.getAllDigits().last()}\".toInt() }\n",
    "\n",
    "exampleInput.getAll2DigitNumbers()"
   ],
   "metadata": {
    "collapsed": false,
    "ExecuteTime": {
     "end_time": "2024-01-08T08:17:02.340607Z",
     "start_time": "2024-01-08T08:17:02.161500Z"
    }
   }
  },
  {
   "cell_type": "code",
   "execution_count": 5,
   "outputs": [
    {
     "data": {
      "text/plain": "142"
     },
     "execution_count": 5,
     "metadata": {},
     "output_type": "execute_result"
    }
   ],
   "source": [
    "fun PuzzleInput.partOne(): Int =\n",
    "    getAll2DigitNumbers().sum()\n",
    "exampleInput.partOne()"
   ],
   "metadata": {
    "collapsed": false,
    "ExecuteTime": {
     "end_time": "2024-01-08T08:17:06.059151Z",
     "start_time": "2024-01-08T08:17:05.990048Z"
    }
   }
  },
  {
   "cell_type": "code",
   "execution_count": 6,
   "outputs": [
    {
     "data": {
      "text/plain": "54708"
     },
     "execution_count": 6,
     "metadata": {},
     "output_type": "execute_result"
    }
   ],
   "source": [
    "puzzleInput.partOne()"
   ],
   "metadata": {
    "collapsed": false,
    "ExecuteTime": {
     "end_time": "2024-01-08T08:17:09.715272Z",
     "start_time": "2024-01-08T08:17:09.669378Z"
    }
   }
  },
  {
   "cell_type": "code",
   "execution_count": 7,
   "outputs": [
    {
     "data": {
      "text/plain": "[two1nine, eightwothree, abcone2threexyz, xtwone3four, 4nineeightseven2, zoneight234, 7pqrstsixteen]"
     },
     "execution_count": 7,
     "metadata": {},
     "output_type": "execute_result"
    }
   ],
   "source": [
    "val digish = mapOf(\n",
    "    \"1\" to 1,\n",
    "    \"2\" to 2,\n",
    "    \"3\" to 3,\n",
    "    \"4\" to 4,\n",
    "    \"5\" to 5,\n",
    "    \"6\" to 6,\n",
    "    \"7\" to 7,\n",
    "    \"8\" to 8,\n",
    "    \"9\" to 9,\n",
    "    \"one\" to 1,\n",
    "    \"two\" to 2,\n",
    "    \"three\" to 3,\n",
    "    \"four\" to 4,\n",
    "    \"five\" to 5,\n",
    "    \"six\" to 6,\n",
    "    \"seven\" to 7,\n",
    "    \"eight\" to 8,\n",
    "    \"nine\" to 9,\n",
    ")\n",
    "\n",
    "val exampleInput2: PuzzleInput = InputReader.getExampleLines(2023, 1, \"example2\")\n",
    "exampleInput2\n"
   ],
   "metadata": {
    "collapsed": false,
    "ExecuteTime": {
     "end_time": "2024-01-08T08:19:17.661370Z",
     "start_time": "2024-01-08T08:19:17.507516Z"
    }
   }
  },
  {
   "cell_type": "code",
   "execution_count": 13,
   "outputs": [
    {
     "data": {
      "text/plain": "[[2, 1, 9], [8, 2, 3], [1, 2, 3], [2, 1, 3, 4], [4, 9, 8, 7, 2], [1, 8, 2, 3, 4], [7, 6]]"
     },
     "execution_count": 13,
     "metadata": {},
     "output_type": "execute_result"
    }
   ],
   "source": [
    "\n",
    "\n",
    "fun PuzzleLine.getAllDigish() = indices.mapNotNull { index ->\n",
    "    digish.firstNotNullOfOrNull { (word, digit) ->\n",
    "        if (substring(index).startsWith(word)) digit else null\n",
    "    }\n",
    "}\n",
    "\n",
    "exampleInput2.map { it.getAllDigish() }"
   ],
   "metadata": {
    "collapsed": false,
    "ExecuteTime": {
     "end_time": "2023-12-04T08:44:06.241845Z",
     "start_time": "2023-12-04T08:44:06.158791Z"
    }
   }
  },
  {
   "cell_type": "code",
   "execution_count": 14,
   "outputs": [],
   "source": [
    "fun PuzzleInput.partTwo() =\n",
    "    sumOf { line -> line.getAllDigish().run { \"${first()}${last()}\".toInt() } }"
   ],
   "metadata": {
    "collapsed": false,
    "ExecuteTime": {
     "end_time": "2023-12-04T08:44:07.078406Z",
     "start_time": "2023-12-04T08:44:07.023285Z"
    }
   }
  },
  {
   "cell_type": "code",
   "execution_count": 15,
   "outputs": [
    {
     "data": {
      "text/plain": "281"
     },
     "execution_count": 15,
     "metadata": {},
     "output_type": "execute_result"
    }
   ],
   "source": [
    "exampleInput2.partTwo()"
   ],
   "metadata": {
    "collapsed": false,
    "ExecuteTime": {
     "end_time": "2023-12-04T08:44:07.951626Z",
     "start_time": "2023-12-04T08:44:07.925229Z"
    }
   }
  },
  {
   "cell_type": "markdown",
   "source": [],
   "metadata": {
    "collapsed": false
   }
  },
  {
   "cell_type": "code",
   "execution_count": 11,
   "outputs": [
    {
     "data": {
      "text/plain": "54087"
     },
     "execution_count": 11,
     "metadata": {},
     "output_type": "execute_result"
    }
   ],
   "source": [
    "puzzleInput.partTwo()"
   ],
   "metadata": {
    "collapsed": false,
    "ExecuteTime": {
     "end_time": "2023-12-04T08:41:24.292063Z",
     "start_time": "2023-12-04T08:41:24.257320Z"
    }
   }
  },
  {
   "cell_type": "code",
   "execution_count": 12,
   "outputs": [],
   "source": [],
   "metadata": {
    "collapsed": false,
    "ExecuteTime": {
     "end_time": "2023-12-04T08:41:24.302657Z",
     "start_time": "2023-12-04T08:41:24.292138Z"
    }
   }
  }
 ],
 "metadata": {
  "kernelspec": {
   "display_name": "Kotlin",
   "language": "kotlin",
   "name": "kotlin"
  },
  "language_info": {
   "name": "kotlin",
   "version": "1.9.0",
   "mimetype": "text/x-kotlin",
   "file_extension": ".kt",
   "pygments_lexer": "kotlin",
   "codemirror_mode": "text/x-kotlin",
   "nbconvert_exporter": ""
  },
  "ktnbPluginMetadata": {
   "projectDependencies": true
  }
 },
 "nbformat": 4,
 "nbformat_minor": 0
}
