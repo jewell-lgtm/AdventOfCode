{
 "cells": [
  {
   "cell_type": "code",
   "execution_count": 1,
   "metadata": {
    "collapsed": true,
    "ExecuteTime": {
     "end_time": "2023-12-13T14:38:16.478115Z",
     "start_time": "2023-12-13T14:38:16.053264Z"
    }
   },
   "outputs": [
    {
     "data": {
      "text/plain": "PuzzleInput(grid=#.##..##.\n..#.##.#.\n##......#\n##......#\n..#.##.#.\n..##..##.\n#.#.##.#.)"
     },
     "execution_count": 1,
     "metadata": {},
     "output_type": "execute_result"
    }
   ],
   "source": [
    "import java.io.File\n",
    "import util.InputReader\n",
    "\n",
    "data class CharGrid(val chars: List<List<Char>>) {\n",
    "    override fun toString(): String {\n",
    "        return chars.joinToString(\"\\n\") { it.joinToString(\"\") }\n",
    "    }\n",
    "}\n",
    "\n",
    "data class PuzzleInput(val grid: CharGrid) {\n",
    "    companion object {\n",
    "        fun from(input: String): PuzzleInput {\n",
    "            return PuzzleInput(CharGrid(input.lines().map {\n",
    "                it.toList()\n",
    "            }))\n",
    "        }\n",
    "    }\n",
    "}\n",
    "\n",
    "val exampleInput = InputReader.getExample(2023, 13).split(\"\\n\\n\").map { PuzzleInput.from(it.trim()) }\n",
    "\n",
    "exampleInput[0]"
   ]
  },
  {
   "cell_type": "code",
   "execution_count": 2,
   "outputs": [
    {
     "data": {
      "text/plain": "[PuzzleInput(grid=#.##..##.\n..#.##.#.\n##......#\n##......#\n..#.##.#.\n..##..##.\n#.#.##.#.), PuzzleInput(grid=#...##..#\n#....#..#\n..##..###\n#####.##.\n#####.##.\n..##..###\n#....#..#)]"
     },
     "execution_count": 2,
     "metadata": {},
     "output_type": "execute_result"
    }
   ],
   "source": [
    "exampleInput"
   ],
   "metadata": {
    "collapsed": false,
    "ExecuteTime": {
     "end_time": "2023-12-13T14:38:16.515583Z",
     "start_time": "2023-12-13T14:38:16.470592Z"
    }
   }
  },
  {
   "cell_type": "code",
   "execution_count": 3,
   "outputs": [
    {
     "data": {
      "text/plain": "12215\n67760\nabbae"
     },
     "execution_count": 3,
     "metadata": {},
     "output_type": "execute_result"
    }
   ],
   "source": [
    "\n",
    "\n",
    "// in a 3x3 grid we can reflect vertically at 2 positions, between 0 and 1, and 1 and 2\n",
    "\n",
    "fun List<Char>.reflectAt(position: Int): List<Char> {\n",
    "    return this.toMutableList().also { mutableList ->\n",
    "        for (i in 0 until position) {\n",
    "            val reflectedIndex = position + i\n",
    "            if (reflectedIndex < mutableList.size) {\n",
    "                mutableList[reflectedIndex] = mutableList[position - i - 1]\n",
    "            }\n",
    "        }\n",
    "    }\n",
    "}\n",
    "\n",
    "fun CharGrid._reflectHorizontally(position: Int): CharGrid {\n",
    "    return CharGrid(this.chars.map { row -> row.reflectAt(position) })\n",
    "}\n",
    "\n",
    "val tinyGridStr = \"\"\"\n",
    "    12345\n",
    "    67890\n",
    "    abcde\n",
    "\"\"\".trimIndent().trim()\n",
    "val tinyGrid = CharGrid(tinyGridStr.lines().map { it.toList() })\n",
    "listOf(\n",
    "    tinyGrid._reflectHorizontally(2)\n",
    ").joinToString(\"\\n\\n\")\n",
    "\n"
   ],
   "metadata": {
    "collapsed": false,
    "ExecuteTime": {
     "end_time": "2023-12-13T14:38:16.724946Z",
     "start_time": "2023-12-13T14:38:16.514826Z"
    }
   }
  },
  {
   "cell_type": "code",
   "execution_count": 4,
   "outputs": [
    {
     "data": {
      "text/plain": "12345\n67890\nabcde\n\n12345\n67890\nabcde\n\n12345\n12345\nabcde\n\n12345\n67890\n67890"
     },
     "execution_count": 4,
     "metadata": {},
     "output_type": "execute_result"
    }
   ],
   "source": [
    "fun List<List<Char>>.reflectHorizontally(at: Int): List<List<Char>> {\n",
    "    return this.toMutableList().also { mutableList ->\n",
    "        for (i in 0 until at) {\n",
    "            val reflectedIndex = at + i\n",
    "            if (reflectedIndex < mutableList.size) {\n",
    "                mutableList[reflectedIndex] = mutableList[at - i - 1]\n",
    "            }\n",
    "        }\n",
    "    }\n",
    "}\n",
    "\n",
    "fun CharGrid.reflectHorizontally(at: Int): CharGrid {\n",
    "    return CharGrid(this.chars.reflectHorizontally(at))\n",
    "}\n",
    "\n",
    "\n",
    "listOf(\n",
    "    tinyGrid,\n",
    "    tinyGrid.reflectHorizontally(0),\n",
    "    tinyGrid.reflectHorizontally(1),\n",
    "    tinyGrid.reflectHorizontally(2),\n",
    ").joinToString(\"\\n\\n\")"
   ],
   "metadata": {
    "collapsed": false,
    "ExecuteTime": {
     "end_time": "2023-12-13T14:38:16.829605Z",
     "start_time": "2023-12-13T14:38:16.725237Z"
    }
   }
  },
  {
   "cell_type": "code",
   "execution_count": 5,
   "outputs": [
    {
     "data": {
      "text/plain": "PuzzleInput(grid=#.##..##.\n..#.##.#.\n##......#\n##......#\n..#.##.#.\n..##..##.\n#.#.##.#.)"
     },
     "execution_count": 5,
     "metadata": {},
     "output_type": "execute_result"
    }
   ],
   "source": [
    "exampleInput[0]"
   ],
   "metadata": {
    "collapsed": false,
    "ExecuteTime": {
     "end_time": "2023-12-13T14:38:16.870396Z",
     "start_time": "2023-12-13T14:38:16.827601Z"
    }
   }
  },
  {
   "cell_type": "code",
   "execution_count": 6,
   "outputs": [
    {
     "name": "stdout",
     "output_type": "stream",
     "text": [
      "*[#, ., #, #, ., ., #, #, .]\n",
      "*[., ., #, ., #, #, ., #, .]\n",
      "*[#, #, ., ., ., ., ., ., #]\n",
      "*[#, #, ., ., ., ., ., ., #]\n",
      "*[., ., #, ., #, #, ., #, .]\n",
      "*[., ., #, #, ., ., #, #, .]\n",
      "*[#, ., #, ., #, #, ., #, .]\n"
     ]
    }
   ],
   "source": [
    "exampleInput[0].grid.chars.forEach { println(\"*$it\") }"
   ],
   "metadata": {
    "collapsed": false,
    "ExecuteTime": {
     "end_time": "2023-12-13T14:38:16.919147Z",
     "start_time": "2023-12-13T14:38:16.855567Z"
    }
   }
  },
  {
   "cell_type": "code",
   "execution_count": 7,
   "outputs": [
    {
     "name": "stdout",
     "output_type": "stream",
     "text": [
      "exampleInput[0].grid.chars\n",
      "#.##..##.\n",
      "..#.##.#.\n",
      "##......#\n",
      "##......#\n",
      "..#.##.#.\n",
      "..##..##.\n",
      "#.#.##.#.\n",
      "x 1\n",
      "false\n",
      "x 2\n",
      "false\n",
      "x 3\n",
      "false\n",
      "x 4\n",
      "false\n",
      "x 5\n",
      "true\n",
      "x 6\n",
      "false\n"
     ]
    }
   ],
   "source": [
    "println(\"exampleInput[0].grid.chars\")\n",
    "println(exampleInput[0].grid)\n",
    "for (x in 1 until exampleInput[0].grid.chars.size) {\n",
    "    println(\"x ${x}\")\n",
    "    println(exampleInput[0].grid._reflectHorizontally(x) == exampleInput[0].grid)\n",
    "}"
   ],
   "metadata": {
    "collapsed": false,
    "ExecuteTime": {
     "end_time": "2023-12-13T14:38:16.985017Z",
     "start_time": "2023-12-13T14:38:16.908092Z"
    }
   }
  },
  {
   "cell_type": "code",
   "execution_count": 8,
   "outputs": [
    {
     "data": {
      "text/plain": "5"
     },
     "execution_count": 8,
     "metadata": {},
     "output_type": "execute_result"
    }
   ],
   "source": [
    "fun CharGrid._reflectHorizontallyAt(): Int? {\n",
    "    for (x in 1 until this.chars.size) {\n",
    "        if (this._reflectHorizontally(x) == this) {\n",
    "            return x\n",
    "        }\n",
    "    }\n",
    "    return null\n",
    "}\n",
    "\n",
    "exampleInput[0].grid._reflectHorizontallyAt()"
   ],
   "metadata": {
    "collapsed": false,
    "ExecuteTime": {
     "end_time": "2023-12-13T14:38:17.029064Z",
     "start_time": "2023-12-13T14:38:16.978845Z"
    }
   }
  },
  {
   "cell_type": "code",
   "execution_count": 9,
   "outputs": [
    {
     "data": {
      "text/plain": "(null, 4)"
     },
     "execution_count": 9,
     "metadata": {},
     "output_type": "execute_result"
    }
   ],
   "source": [
    "fun CharGrid.reflectedHorizontallyAt(): Int? {\n",
    "    for (x in 1 until this.chars[0].size) {\n",
    "        if (this.reflectHorizontally(x) == this) {\n",
    "            return x\n",
    "        }\n",
    "    }\n",
    "    return null\n",
    "}\n",
    "\n",
    "exampleInput[1].grid._reflectHorizontallyAt() to exampleInput[1].grid.reflectedHorizontallyAt()"
   ],
   "metadata": {
    "collapsed": false,
    "ExecuteTime": {
     "end_time": "2023-12-13T14:38:17.086022Z",
     "start_time": "2023-12-13T14:38:17.025873Z"
    }
   }
  },
  {
   "cell_type": "code",
   "execution_count": 10,
   "outputs": [
    {
     "data": {
      "text/plain": "[(5, 7), (null, 4)]"
     },
     "execution_count": 10,
     "metadata": {},
     "output_type": "execute_result"
    }
   ],
   "source": [
    "exampleInput.map { it.grid._reflectHorizontallyAt() to it.grid.reflectedHorizontallyAt() }"
   ],
   "metadata": {
    "collapsed": false,
    "ExecuteTime": {
     "end_time": "2023-12-13T14:38:17.158583Z",
     "start_time": "2023-12-13T14:38:17.085249Z"
    }
   }
  },
  {
   "cell_type": "code",
   "execution_count": 11,
   "outputs": [
    {
     "data": {
      "text/plain": "#.##..##.\n..#.##.#.\n##......#\n##......#\n..#.##.#.\n..##..##.\n#.#.##.#."
     },
     "execution_count": 11,
     "metadata": {},
     "output_type": "execute_result"
    }
   ],
   "source": [
    "exampleInput[0].grid"
   ],
   "metadata": {
    "collapsed": false,
    "ExecuteTime": {
     "end_time": "2023-12-13T14:38:17.187981Z",
     "start_time": "2023-12-13T14:38:17.152319Z"
    }
   }
  },
  {
   "cell_type": "code",
   "execution_count": 27,
   "outputs": [
    {
     "data": {
      "text/plain": "#.##..##.\n..#.##.#.\n##......#\n##......#\n..#.##.#.\n..##..##.\n#.#.##.#.\n\n#.##..##.\n..#.##..#\n##.......\n##.......\n..#.##..#\n..##..##.\n#.#.##..#"
     },
     "execution_count": 27,
     "metadata": {},
     "output_type": "execute_result"
    }
   ],
   "source": [
    "listOf(exampleInput[0].grid,exampleInput[0].grid._reflectHorizontally(7)).joinToString(\"\\n\\n\")"
   ],
   "metadata": {
    "collapsed": false,
    "ExecuteTime": {
     "end_time": "2023-12-13T15:08:57.811033Z",
     "start_time": "2023-12-13T15:08:57.759604Z"
    }
   }
  },
  {
   "cell_type": "code",
   "execution_count": null,
   "outputs": [],
   "source": [],
   "metadata": {
    "collapsed": false
   }
  }
 ],
 "metadata": {
  "kernelspec": {
   "display_name": "Kotlin",
   "language": "kotlin",
   "name": "kotlin"
  },
  "language_info": {
   "name": "kotlin",
   "version": "1.9.0",
   "mimetype": "text/x-kotlin",
   "file_extension": ".kt",
   "pygments_lexer": "kotlin",
   "codemirror_mode": "text/x-kotlin",
   "nbconvert_exporter": ""
  },
  "ktnbPluginMetadata": {
   "projectDependencies": true
  }
 },
 "nbformat": 4,
 "nbformat_minor": 0
}
