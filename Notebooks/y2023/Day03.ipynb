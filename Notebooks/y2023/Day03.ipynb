{
 "cells": [
  {
   "cell_type": "code",
   "execution_count": 1,
   "metadata": {
    "collapsed": true,
    "ExecuteTime": {
     "end_time": "2023-12-04T10:42:20.630280Z",
     "start_time": "2023-12-04T10:42:20.539228Z"
    }
   },
   "outputs": [],
   "source": [
    "import java.io.File\n",
    "import util.InputReader\n",
    "\n",
    "typealias PuzzleLine = String\n",
    "typealias PuzzleInput = List<PuzzleLine>\n",
    "\n",
    "val exampleInput: PuzzleInput = InputReader.getExampleLines(2023, 3)\n",
    "val puzzleInput: PuzzleInput = InputReader.getPuzzleLines(2023, 3)"
   ]
  },
  {
   "cell_type": "markdown",
   "source": [
    "--- Day 3: Gear Ratios ---\n",
    "You and the Elf eventually reach a gondola lift station; he says the gondola lift will take you up to the water source, but this is as far as he can bring you. You go inside.\n",
    "\n",
    "It doesn't take long to find the gondolas, but there seems to be a problem: they're not moving.\n",
    "\n",
    "\"Aaah!\"\n",
    "\n",
    "You turn around to see a slightly-greasy Elf with a wrench and a look of surprise. \"Sorry, I wasn't expecting anyone! The gondola lift isn't working right now; it'll still be a while before I can fix it.\" You offer to help.\n",
    "\n",
    "The engineer explains that an engine part seems to be missing from the engine, but nobody can figure out which one. If you can add up all the part numbers in the engine schematic, it should be easy to work out which part is missing.\n",
    "\n",
    "The engine schematic (your puzzle input) consists of a visual representation of the engine. There are lots of numbers and symbols you don't really understand, but apparently any number adjacent to a symbol, even diagonally, is a \"part number\" and should be included in your sum. (Periods (.) do not count as a symbol.)\n",
    "\n",
    "Here is an example engine schematic:"
   ],
   "metadata": {
    "collapsed": false
   }
  },
  {
   "cell_type": "code",
   "execution_count": 2,
   "outputs": [
    {
     "data": {
      "text/plain": "467..114..\n...*......\n..35..633.\n......#...\n617*......\n.....+.58.\n..592.....\n......755.\n...$.*....\n.664.598.."
     },
     "execution_count": 2,
     "metadata": {},
     "output_type": "execute_result"
    }
   ],
   "source": [
    "exampleInput.joinToString(\"\\n\")"
   ],
   "metadata": {
    "collapsed": false,
    "ExecuteTime": {
     "end_time": "2023-12-04T10:42:20.691526Z",
     "start_time": "2023-12-04T10:42:20.629644Z"
    }
   }
  },
  {
   "cell_type": "code",
   "execution_count": 3,
   "outputs": [
    {
     "data": {
      "text/plain": "[LineDigits(y=0, x=0..3, number=467), LineDigits(y=0, x=0..3, number=114)]"
     },
     "execution_count": 3,
     "metadata": {},
     "output_type": "execute_result"
    }
   ],
   "source": [
    "data class LineDigits(val y: Int, val x: IntRange, val number: Int)\n",
    "\n",
    "fun PuzzleLine.getLineDigits(y: Int): Set<LineDigits> {\n",
    "    val result = mutableSetOf<LineDigits>()\n",
    "    var x = 0\n",
    "    var remainingString = this\n",
    "    while (remainingString.isNotEmpty()) {\n",
    "        if (remainingString[x].isDigit()) {\n",
    "            val start = x\n",
    "            val end = remainingString.indexOfFirst { !it.isDigit() }.let { if (it == -1) remainingString.length else it }\n",
    "            result.add(LineDigits(y, start..end, remainingString.substring(start, end).toInt()))\n",
    "            remainingString = remainingString.substring(end)\n",
    "        } else {\n",
    "            remainingString = remainingString.substring(remainingString.indexOfFirst { it.isDigit() }.let { if (it == -1) remainingString.length else it })\n",
    "        }\n",
    "    }\n",
    "    return result\n",
    "}\n",
    "\n",
    "exampleInput[0].getLineDigits(0)"
   ],
   "metadata": {
    "collapsed": false,
    "ExecuteTime": {
     "end_time": "2023-12-04T10:42:21.073952Z",
     "start_time": "2023-12-04T10:42:20.690964Z"
    }
   }
  },
  {
   "cell_type": "markdown",
   "source": [
    "What is the sum of all of the part numbers in the engine schematic?"
   ],
   "metadata": {
    "collapsed": false
   }
  },
  {
   "cell_type": "code",
   "execution_count": 4,
   "outputs": [],
   "source": [
    "\n",
    "typealias Coordinate = Pair<Int, Int>\n",
    "\n",
    "class Grid<Element>(val input: List<List<Element>>) {\n",
    "    fun traverse(fn: (x: Int, y: Int, element: Element) -> Unit) {\n",
    "        for (y in input.indices) {\n",
    "            for (x in input[y].indices) {\n",
    "                fn(x, y, input[y][x])\n",
    "            }\n",
    "        }\n",
    "    }\n",
    "    \n",
    "    fun <Out> map(fn: (x: Int, y: Int, cell: Element) -> Out): List<Out> {\n",
    "        val result = mutableListOf<Out>()\n",
    "        traverse { x, y, cell -> result.add(fn(x, y, cell)) }\n",
    "        return result\n",
    "    }\n",
    "    \n",
    "    fun <Out> mapNotNull(fn: (x: Int, y: Int, cell: Element) -> Out?): List<Out> {\n",
    "        val result = mutableListOf<Out>()\n",
    "        traverse { x, y, cell -> fn(x, y, cell)?.let { result.add(it) } }\n",
    "        return result\n",
    "    }\n",
    "    \n",
    "    fun neighborIndexes(y: Int, x: Int): Set<Coordinate> {\n",
    "        val result = mutableSetOf<Coordinate>()\n",
    "        for (dY in -1..1) {\n",
    "            for (dX in -1..1) {\n",
    "                if (dY == 0 && dX == 0) continue\n",
    "                val newY = y + dY\n",
    "                val newX = x + dX\n",
    "                if (newX < 0 || newY < 0 || newY >= input.size || newX >= input[newY].size) continue\n",
    "                result.add(y + dY to x + dX) \n",
    "            }\n",
    "        }\n",
    "        return result\n",
    "    }\n",
    "    \n",
    "    fun neighborIndexes(y: Int, xRange: IntRange): Set<Coordinate> {\n",
    "       val result = mutableSetOf<Coordinate>()\n",
    "       for (x in xRange) {\n",
    "        for (dY in -1..1) {\n",
    "            for (dX in -1..1) {\n",
    "                if (dY == 0 && dX == 0) continue\n",
    "                val newY = y + dY\n",
    "                val newX = x + dX\n",
    "                if (newX < 0 || newY < 0 || newY >= input.size || newX >= input[newY].size) continue\n",
    "                if (y == newY && xRange.contains(newX)) continue\n",
    "                result.add(y + dY to x + dX)\n",
    "            }\n",
    "        }  \n",
    "       }\n",
    "        return result \n",
    "    }\n",
    "}\n",
    "\n",
    " \n",
    "\n",
    "fun PuzzleInput.grid(): Grid<Char> = Grid(map { it.toList() })\n"
   ],
   "metadata": {
    "collapsed": false,
    "ExecuteTime": {
     "end_time": "2023-12-04T10:42:21.380614Z",
     "start_time": "2023-12-04T10:42:21.073612Z"
    }
   }
  },
  {
   "cell_type": "code",
   "execution_count": 5,
   "outputs": [
    {
     "data": {
      "text/plain": "[LineSymbol(y=1, x=3, symbol=*), LineSymbol(y=3, x=6, symbol=#), LineSymbol(y=4, x=3, symbol=*), LineSymbol(y=5, x=5, symbol=+), LineSymbol(y=8, x=3, symbol=$), LineSymbol(y=8, x=5, symbol=*)]"
     },
     "execution_count": 5,
     "metadata": {},
     "output_type": "execute_result"
    }
   ],
   "source": [
    "data class LineSymbol(val y: Int, val x: Int, val symbol: Char)\n",
    "\n",
    "fun PuzzleInput.getLineSymbols(): Set<LineSymbol> = grid().mapNotNull { x, y, char -> if (!char.isDigit() && char != '.') LineSymbol(y, x, char) else null }.toSet()\n",
    "\n",
    "exampleInput.getLineSymbols()"
   ],
   "metadata": {
    "collapsed": false,
    "ExecuteTime": {
     "end_time": "2023-12-04T10:42:21.451857Z",
     "start_time": "2023-12-04T10:42:21.374252Z"
    }
   }
  },
  {
   "cell_type": "code",
   "execution_count": 6,
   "outputs": [],
   "source": [],
   "metadata": {
    "collapsed": false,
    "ExecuteTime": {
     "end_time": "2023-12-04T10:42:21.453742Z",
     "start_time": "2023-12-04T10:42:21.450376Z"
    }
   }
  },
  {
   "cell_type": "code",
   "execution_count": 7,
   "outputs": [
    {
     "name": "stdout",
     "output_type": "stream",
     "text": [
      "[LineDigits(y=0, x=0..3, number=467), LineDigits(y=0, x=0..3, number=114), LineDigits(y=2, x=0..2, number=35), LineDigits(y=2, x=0..3, number=633), LineDigits(y=5, x=0..2, number=58), LineDigits(y=7, x=0..3, number=755), LineDigits(y=9, x=0..3, number=664), LineDigits(y=9, x=0..3, number=598)]\n"
     ]
    },
    {
     "data": {
      "text/plain": "-1"
     },
     "execution_count": 7,
     "metadata": {},
     "output_type": "execute_result"
    }
   ],
   "source": [
    "fun PuzzleInput.partOne(): Int {\n",
    "    val grid = grid()\n",
    "    val allNumbers = mapIndexed { index, puzzleLine -> puzzleLine.getLineDigits(index) }.flatten()\n",
    "    val allSymbols = getLineSymbols()\n",
    "    \n",
    "    val partNumbers = allNumbers.filter { number -> \n",
    "        val neighbors = grid.neighborIndexes(number.y, number.x)\n",
    "        val neighborSymbols = allSymbols.filter { symbol -> neighbors.contains(symbol.y to symbol.x) }\n",
    "        neighborSymbols.isNotEmpty()\n",
    "    }\n",
    "    \n",
    "    println(partNumbers)\n",
    "    \n",
    "    return -1\n",
    "}\n",
    "\n",
    "exampleInput.partOne()"
   ],
   "metadata": {
    "collapsed": false,
    "ExecuteTime": {
     "end_time": "2023-12-04T10:42:21.553964Z",
     "start_time": "2023-12-04T10:42:21.455630Z"
    }
   }
  },
  {
   "cell_type": "code",
   "execution_count": 8,
   "outputs": [],
   "source": [],
   "metadata": {
    "collapsed": false,
    "ExecuteTime": {
     "end_time": "2023-12-04T10:42:21.556458Z",
     "start_time": "2023-12-04T10:42:21.554085Z"
    }
   }
  },
  {
   "cell_type": "code",
   "execution_count": 9,
   "outputs": [
    {
     "name": "stderr",
     "output_type": "stream",
     "text": [
      "Line_7.jupyter.kts (1:1 - 3) Unresolved reference: re"
     ]
    }
   ],
   "source": [
    "re"
   ],
   "metadata": {
    "collapsed": false,
    "ExecuteTime": {
     "end_time": "2023-12-04T10:42:21.613819Z",
     "start_time": "2023-12-04T10:42:21.555899Z"
    }
   }
  }
 ],
 "metadata": {
  "kernelspec": {
   "display_name": "Kotlin",
   "language": "kotlin",
   "name": "kotlin"
  },
  "language_info": {
   "name": "kotlin",
   "version": "1.9.0",
   "mimetype": "text/x-kotlin",
   "file_extension": ".kt",
   "pygments_lexer": "kotlin",
   "codemirror_mode": "text/x-kotlin",
   "nbconvert_exporter": ""
  },
  "ktnbPluginMetadata": {
   "projectDependencies": true
  }
 },
 "nbformat": 4,
 "nbformat_minor": 0
}
