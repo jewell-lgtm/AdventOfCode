{
 "cells": [
  {
   "cell_type": "code",
   "execution_count": 4,
   "metadata": {
    "collapsed": true,
    "ExecuteTime": {
     "end_time": "2023-12-02T22:13:18.626514Z",
     "start_time": "2023-12-02T22:13:18.550249Z"
    }
   },
   "outputs": [],
   "source": [
    "import java.io.File\n",
    "\n",
    "// Read the example input\n",
    "val exampleInput = File(\"./src/main/resources/2023/day_02/example.txt\").readLines()\n",
    "val input = File(\"./src/main/resources/2023/day_02/input.txt\").readLines()"
   ]
  },
  {
   "cell_type": "code",
   "execution_count": 6,
   "outputs": [
    {
     "data": {
      "text/plain": "Game 1: 3 blue, 4 red; 1 red, 2 green, 6 blue; 2 green"
     },
     "execution_count": 6,
     "metadata": {},
     "output_type": "execute_result"
    }
   ],
   "source": [
    "exampleInput[0]"
   ],
   "metadata": {
    "collapsed": false,
    "ExecuteTime": {
     "end_time": "2023-12-02T22:13:31.616801Z",
     "start_time": "2023-12-02T22:13:31.572656Z"
    }
   }
  },
  {
   "cell_type": "code",
   "execution_count": 7,
   "outputs": [
    {
     "data": {
      "text/plain": "[[Game 1: 3 blue, 4 red; 1 red, 2 green, 6 blue; 2 green, 1, 3 blue, 4 red; 1 red, 2 green, 6 blue; 2 green], [Game 2: 1 blue, 2 green; 3 green, 4 blue, 1 red; 1 green, 1 blue, 2, 1 blue, 2 green; 3 green, 4 blue, 1 red; 1 green, 1 blue], [Game 3: 8 green, 6 blue, 20 red; 5 blue, 4 red, 13 green; 5 green, 1 red, 3, 8 green, 6 blue, 20 red; 5 blue, 4 red, 13 green; 5 green, 1 red], [Game 4: 1 green, 3 red, 6 blue; 3 green, 6 red; 3 green, 15 blue, 14 red, 4, 1 green, 3 red, 6 blue; 3 green, 6 red; 3 green, 15 blue, 14 red], [Game 5: 6 red, 1 blue, 3 green; 2 blue, 1 red, 2 green, 5, 6 red, 1 blue, 3 green; 2 blue, 1 red, 2 green]]"
     },
     "execution_count": 7,
     "metadata": {},
     "output_type": "execute_result"
    }
   ],
   "source": [
    "fun parseInput(input: List<String>): List<Triple<Int, Int, Char>> {\n",
    "    return input.map { line ->\n",
    "        val (gameString, rest) = line.split(\":\")\n",
    "        \n",
    "    }\n",
    "}"
   ],
   "metadata": {
    "collapsed": false,
    "ExecuteTime": {
     "end_time": "2023-12-02T22:14:47.773889Z",
     "start_time": "2023-12-02T22:14:47.616451Z"
    }
   }
  },
  {
   "cell_type": "code",
   "execution_count": null,
   "outputs": [],
   "source": [],
   "metadata": {
    "collapsed": false
   }
  }
 ],
 "metadata": {
  "kernelspec": {
   "display_name": "Kotlin",
   "language": "kotlin",
   "name": "kotlin"
  },
  "language_info": {
   "name": "kotlin",
   "version": "1.9.0",
   "mimetype": "text/x-kotlin",
   "file_extension": ".kt",
   "pygments_lexer": "kotlin",
   "codemirror_mode": "text/x-kotlin",
   "nbconvert_exporter": ""
  }
 },
 "nbformat": 4,
 "nbformat_minor": 0
}
